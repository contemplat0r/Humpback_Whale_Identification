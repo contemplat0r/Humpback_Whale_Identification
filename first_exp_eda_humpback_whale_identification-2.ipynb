{
 "cells": [
  {
   "cell_type": "code",
   "execution_count": null,
   "metadata": {},
   "outputs": [],
   "source": [
    "import os\n",
    "import random\n",
    "import collections\n",
    "\n",
    "import numpy as np\n",
    "import pandas as pd\n",
    "import scipy.stats\n",
    "import matplotlib.image as mpimg\n",
    "import matplotlib.pyplot as plt\n",
    "import seaborn as sns\n",
    "import sklearn\n",
    "import skimage\n",
    "from skimage import exposure, img_as_float\n",
    "#plt.style.use('dark_background')\n",
    "#plt.style.use('seaborn-deep')\n",
    "plt.style.use('Solarize_Light2')\n",
    "%matplotlib inline"
   ]
  },
  {
   "cell_type": "code",
   "execution_count": null,
   "metadata": {},
   "outputs": [],
   "source": [
    "print(plt.style.available)"
   ]
  },
  {
   "cell_type": "code",
   "execution_count": null,
   "metadata": {},
   "outputs": [],
   "source": [
    "IMAGE_DIMENSIONS_NUM = 3\n",
    "images_dir = '../input/train'\n",
    "train_images_description_file_path = '../input/train.csv'\n",
    "full_cwd_path = os.getcwd()\n",
    "path_prefix, cwd_itself = os.path.split(full_cwd_path)\n",
    "if cwd_itself != 'code':\n",
    "    os.chdir(os.path.join(path_prefix, 'code'))\n",
    "    print(os.getcwd())"
   ]
  },
  {
   "cell_type": "code",
   "execution_count": null,
   "metadata": {},
   "outputs": [],
   "source": [
    "train_images_names = os.listdir(images_dir)"
   ]
  },
  {
   "cell_type": "code",
   "execution_count": null,
   "metadata": {},
   "outputs": [],
   "source": [
    "#len(train_images_names)\n",
    "print(\"train_images_names len: {}\".format(len(train_images_names)))\n",
    "#print(\"train_images_masks_names len: {}\".format(len(train_images_masks_names)))\n",
    "print(train_images_names[:10]) # Is an image name and mask name with the same index matd_df = pd.read_csv(segmentation_file_path)\n",
    "#print(train_images_masks_names[:10])\n",
    "train_images_description_df = pd.read_csv(train_images_description_file_path)\n",
    "print(train_images_description_df.head())\n",
    "print(train_images_description_df.shape)"
   ]
  },
  {
   "cell_type": "code",
   "execution_count": null,
   "metadata": {},
   "outputs": [],
   "source": [
    "train_images_description_df.describe()"
   ]
  },
  {
   "cell_type": "code",
   "execution_count": null,
   "metadata": {},
   "outputs": [],
   "source": [
    "train_images_description_df.info()"
   ]
  },
  {
   "cell_type": "code",
   "execution_count": null,
   "metadata": {},
   "outputs": [],
   "source": [
    "train_images_description_df['Id'].unique().shape"
   ]
  },
  {
   "cell_type": "code",
   "execution_count": null,
   "metadata": {},
   "outputs": [],
   "source": [
    "print(train_images_description_df['Id'].unique())"
   ]
  },
  {
   "cell_type": "code",
   "execution_count": null,
   "metadata": {},
   "outputs": [],
   "source": [
    "def select_objects(indexes_list, objects_names):\n",
    "    return tuple(objects_names[i] for i in indexes_list)"
   ]
  },
  {
   "cell_type": "code",
   "execution_count": null,
   "metadata": {},
   "outputs": [],
   "source": [
    "def select_random_indexses_subset(size, subset_size):\n",
    "    return random.sample(tuple(range(size)), subset_size)"
   ]
  },
  {
   "cell_type": "code",
   "execution_count": null,
   "metadata": {},
   "outputs": [],
   "source": [
    "def random_objects_select(objects_names, subset_size):\n",
    "    objects_names_len = len(objects_names)\n",
    "    indexes = select_random_indexses_subset(objects_names_len, subset_size)\n",
    "    return select_objects(indexes, objects_names)"
   ]
  },
  {
   "cell_type": "code",
   "execution_count": null,
   "metadata": {},
   "outputs": [],
   "source": [
    "def select_offset_indexses_subset(size, subset_size, offset):\n",
    "    return tuple(range(size))[offset:offset + subset_size]"
   ]
  },
  {
   "cell_type": "code",
   "execution_count": null,
   "metadata": {},
   "outputs": [],
   "source": [
    "def offset_objects_select(objects_names, subset_size, offset):\n",
    "    objects_names_len = len(objects_names)\n",
    "    indexes = select_offset_indexses_subset(objects_names_len, subset_size, offset)\n",
    "    return select_objects(indexes, objects_names)"
   ]
  },
  {
   "cell_type": "code",
   "execution_count": null,
   "metadata": {},
   "outputs": [],
   "source": [
    "def show_images_grid(images_list, columns_num, figsize, images_names_list=None):\n",
    "    rows_num = len(images_list) // columns_num\n",
    "    fig, ax = plt.subplots(rows_num, columns_num, figsize=figsize)\n",
    "    images_list_len = len(images_list)\n",
    "    slice_len = columns_num\n",
    "    images_list_slices_len = images_list_len // slice_len\n",
    "    images_names_list_slices = []\n",
    "    images_list_slices = [\n",
    "        images_list[i * slice_len:(i+1) * slice_len]\\\n",
    "        for i in range(images_list_slices_len)\n",
    "    ]\n",
    "    if images_names_list:\n",
    "        images_names_list_slices = [\n",
    "            images_names_list[i * slice_len:(i+1) * slice_len]\\\n",
    "            for i in range(images_list_slices_len)\n",
    "        ]\n",
    "    #print(\"show_images_grid, images_names_list_slices:\\n\", images_names_list_slices)\n",
    "    for i in range(ax.shape[0]):\n",
    "        images_list_slice = images_list_slices[i]\n",
    "        images_names_list_slice = []\n",
    "        if images_names_list:\n",
    "            images_names_list_slice = images_names_list_slices[i]\n",
    "        #images_list_0 = [images_pair[0] for images_pair in paired_images_list_slice]\n",
    "        #images_list_1 = [images_pair[1] for images_pair in paired_images_list_slice]\n",
    "        for j in range(columns_num):\n",
    "            if images_names_list:\n",
    "                #print(\"show_images_grid, images_names_list_slice[{}]:\\n\".format(j), images_names_list_slice[j])\n",
    "                ax[i, j].set_title(images_names_list_slice[j])            \n",
    "            ax[i, j].imshow(images_list_slice[j])\n",
    "\n",
    "            #ax[2 * i + 1, j].imshow(images_list_1[j])\n",
    "    plt.tight_layout()\n",
    "    plt.show()"
   ]
  },
  {
   "cell_type": "code",
   "execution_count": null,
   "metadata": {},
   "outputs": [],
   "source": [
    "def draw_images_with_histograms(images_list, columns_num, figsize, nbins):\n",
    "    rows_num = 3 * len(images_list) // columns_num\n",
    "    fig, ax = plt.subplots(rows_num, columns_num, figsize=figsize)\n",
    "    images_list_len = len(images_list)\n",
    "    slice_len = columns_num\n",
    "    images_list_slices_len = images_list_len // slice_len\n",
    "    images_list_slices = [\n",
    "    images_list[i * slice_len:(i+1) * slice_len]\\\n",
    "        for i in range(images_list_slices_len)\n",
    "    ]\n",
    "    for i in range(ax.shape[0] // 3):\n",
    "        images_list_slice = images_list_slices[i]\n",
    "        for j in range(columns_num):\n",
    "            ax[3 * i, j].imshow(images_list_slice[j])\n",
    "            ax[3 * i, j].grid(False)\n",
    "            img_cdf, cdf_bins = exposure.cumulative_distribution(images_list_slice[j].flatten())\n",
    "            ax[3 * i + 1, j].hist(exposure.histogram(images_list_slice[j].flatten(), nbins=nbins))\n",
    "            ax[3 * i + 2, j].plot(cdf_bins, img_cdf, color='green')\n",
    "    plt.show()"
   ]
  },
  {
   "cell_type": "code",
   "execution_count": null,
   "metadata": {},
   "outputs": [],
   "source": [
    "def extract_object_pixels_by_mask(image, mask):\n",
    "    return image * mask\n",
    "apply_mask_to_color_channel = extract_object_pixels_by_mask"
   ]
  },
  {
   "cell_type": "code",
   "execution_count": null,
   "metadata": {},
   "outputs": [],
   "source": [
    "def extract_not_object_pixels_by_mask(image, mask):\n",
    "    #return image * (np.ones(mask.shape) - mask)\n",
    "    not_object_pixels = image * (np.ones(mask.shape) - mask)\n",
    "    #print(\"extract_non_salt_pixels_by_mask:\\n\", non_salt_pixels)\n",
    "    return not_object_pixels\n",
    "apply_negative_mask_to_color_channel = extract_not_object_pixels_by_mask"
   ]
  },
  {
   "cell_type": "code",
   "execution_count": null,
   "metadata": {},
   "outputs": [],
   "source": [
    "def get_mask_complement(mask):\n",
    "    return np.ones(mask.shape) - mask"
   ]
  },
  {
   "cell_type": "code",
   "execution_count": null,
   "metadata": {},
   "outputs": [],
   "source": [
    "def compute_object_pixels_num(mask):\n",
    "    return mask.sum()\n",
    "\n",
    "def compute_not_object_pixels_num(mask):\n",
    "    return mask.size - mask.sum()"
   ]
  },
  {
   "cell_type": "code",
   "execution_count": null,
   "metadata": {},
   "outputs": [],
   "source": [
    "def compute_whole_image_mean_brightnes(image):\n",
    "    return image.mean()"
   ]
  },
  {
   "cell_type": "code",
   "execution_count": null,
   "metadata": {},
   "outputs": [],
   "source": [
    "def compute_color_channel_mean_brightness(color_channel):\n",
    "    return color_channel.mean()"
   ]
  },
  {
   "cell_type": "code",
   "execution_count": null,
   "metadata": {},
   "outputs": [],
   "source": [
    "def compute_color_channels_mean_brightness(color_channels):\n",
    "    return [\n",
    "        compute_color_channel_mean_brightness(color_channel) for color_channel in color_channels\n",
    "    ]"
   ]
  },
  {
   "cell_type": "code",
   "execution_count": null,
   "metadata": {},
   "outputs": [],
   "source": [
    "def compute_images_list_color_channels_mean_brightness(images_color_channels_list):\n",
    "    return [\n",
    "        compute_color_channels_mean_brightness(\n",
    "            image_color_channels\n",
    "        ) for image_color_channels in images_color_channels_list\n",
    "    ]"
   ]
  },
  {
   "cell_type": "code",
   "execution_count": null,
   "metadata": {},
   "outputs": [],
   "source": [
    "def divide_color_channels_values(color_channels_values):\n",
    "    return (\n",
    "        [color_channel_value[0] for color_channel_value in color_channels_values],\n",
    "        [color_channel_value[1] for color_channel_value in color_channels_values],\n",
    "        [color_channel_value[2] for color_channel_value in color_channels_values],\n",
    "    )\n"
   ]
  },
  {
   "cell_type": "code",
   "execution_count": null,
   "metadata": {},
   "outputs": [],
   "source": [
    "def compute_object_pixels_mean_brightness(image, mask):\n",
    "    full_color_image_salt_pixels = apply_mask_to_full_color_image(image, mask)\n",
    "    #print(compute_salt_pixels_num(mask))\n",
    "    salt_pixels_num = compute_salt_pixels_num(mask) * IMAGE_DIMENSIONS_NUM\n",
    "    salt_pixels_sum = full_color_image_salt_pixels.sum()\n",
    "    return 0.0 if salt_pixels_num == 0 else salt_pixels_sum / salt_pixels_num"
   ]
  },
  {
   "cell_type": "code",
   "execution_count": null,
   "metadata": {},
   "outputs": [],
   "source": [
    "def get_image_color_channels(image):\n",
    "    return [image[:, :, i] for i in range(IMAGE_DIMENSIONS_NUM)]\n",
    "\n",
    "def collapse_color_channels_to_image(color_components):\n",
    "    return np.array([color_components[i].T for i in range(IMAGE_DIMENSIONS_NUM)]).T"
   ]
  },
  {
   "cell_type": "code",
   "execution_count": null,
   "metadata": {},
   "outputs": [],
   "source": [
    "def get_images_color_channels(images):\n",
    "    return [get_image_color_channels(image) for image in images]"
   ]
  },
  {
   "cell_type": "code",
   "execution_count": null,
   "metadata": {},
   "outputs": [],
   "source": [
    "def apply_mask_to_color_channels(color_channels, mask):\n",
    "    return [apply_mask_to_color_channel(color_channel, mask) for color_channel in color_channels]"
   ]
  },
  {
   "cell_type": "code",
   "execution_count": null,
   "metadata": {},
   "outputs": [],
   "source": [
    "def apply_negative_mask_to_color_channels(color_channels, mask):\n",
    "    #print(\"apply_negative_mask_to_color_channels, color_channels:\\n\", color_channels)\n",
    "    return [apply_negative_mask_to_color_channel(color_channel, mask) for color_channel in color_channels]"
   ]
  },
  {
   "cell_type": "code",
   "execution_count": null,
   "metadata": {},
   "outputs": [],
   "source": [
    "def apply_mask_to_full_color_image(image, mask):\n",
    "    color_channels = get_image_color_channels(image)\n",
    "    masked_color_channels = apply_mask_to_color_channels(\n",
    "        color_channels,\n",
    "        mask\n",
    "    )\n",
    "    return collapse_color_channels_to_image(masked_color_channels)"
   ]
  },
  {
   "cell_type": "code",
   "execution_count": null,
   "metadata": {},
   "outputs": [],
   "source": [
    "def apply_negative_mask_to_full_color_image(image, mask):\n",
    "    color_channels = get_image_color_channels(image)\n",
    "    masked_color_channels = apply_negative_mask_to_color_channels(\n",
    "        color_channels,\n",
    "        mask\n",
    "    )\n",
    "    return collapse_color_channels_to_image(masked_color_channels)"
   ]
  },
  {
   "cell_type": "code",
   "execution_count": null,
   "metadata": {},
   "outputs": [],
   "source": [
    "def calculate_mode(sample):\n",
    "    flatten_sample = sample.flatten()\n",
    "    counter = collections.Counter(sample.flatten())\n",
    "    most_common = counter.most_common()\n",
    "    if len(most_common) > 0:\n",
    "        if len(most_common) == 1:\n",
    "            return most_common[0]\n",
    "        else:\n",
    "            if most_common[0][0] == 0:\n",
    "                return most_common[1]\n",
    "            else:\n",
    "                return most_common[0]\n",
    "    else:\n",
    "        return None\n",
    "compute_color_channel_mode = calculate_mode"
   ]
  },
  {
   "cell_type": "code",
   "execution_count": null,
   "metadata": {},
   "outputs": [],
   "source": [
    "def collect_modes_and_frequencies(modes):\n",
    "    modes_frequencies_dict = {}\n",
    "    print(\"collect_modes_and_frequencies,  modes:\\n\", modes)\n",
    "    for color_channels_modes in modes:\n",
    "        mode_value, frequency = color_channels_modes[0]\n",
    "        if mode_value in modes_frequencies_dict:\n",
    "            modes_frequencies_dict[mode_value] += frequency\n",
    "        else:\n",
    "            modes_frequencies_dict[mode_value] = frequency\n",
    "    return modes_frequencies_dict"
   ]
  },
  {
   "cell_type": "code",
   "execution_count": null,
   "metadata": {},
   "outputs": [],
   "source": [
    "def gather_color_channel_modes_and_frequencies(modes):\n",
    "    modes_frequencies_dict = {}\n",
    "    for color_channels_modes in modes:\n",
    "        mode_value, frequency = color_channels_modes\n",
    "        if mode_value in modes_frequencies_dict:\n",
    "            modes_frequencies_dict[mode_value] += frequency\n",
    "        else:\n",
    "            modes_frequencies_dict[mode_value] = frequency\n",
    "    return modes_frequencies_dict"
   ]
  },
  {
   "cell_type": "code",
   "execution_count": null,
   "metadata": {},
   "outputs": [],
   "source": [
    "def gather_objects_and_frequencies(objects_list):\n",
    "    return collections.Counter(objects_list)"
   ]
  },
  {
   "cell_type": "code",
   "execution_count": null,
   "metadata": {},
   "outputs": [],
   "source": [
    "def gather_objects_and_frequencies(objects_list):\n",
    "    frequencies_dict = {}\n",
    "    for obj in objects_list:\n",
    "        if obj in frequencies_dict:\n",
    "            frequencies_dict[obj] += 1\n",
    "        else:\n",
    "            frequencies_dict[obj] = 1\n",
    "    return frequencies_dict"
   ]
  },
  {
   "cell_type": "code",
   "execution_count": null,
   "metadata": {},
   "outputs": [],
   "source": [
    "def sort_gathered_objects(objects):\n",
    "    objects_sorted = sorted(objects)\n",
    "    objects_frequencies_sorted = []\n",
    "    for obj in objects_sorted:\n",
    "        objects_frequencies_sorted.append(objects[obj])\n",
    "    return objects_sorted, objects_frequencies_sorted"
   ]
  },
  {
   "cell_type": "code",
   "execution_count": null,
   "metadata": {},
   "outputs": [],
   "source": [
    "def compute_color_channels_modes(color_channels):\n",
    "    return [compute_color_channel_mode(color_channel) for color_channel in color_channels]"
   ]
  },
  {
   "cell_type": "code",
   "execution_count": null,
   "metadata": {},
   "outputs": [],
   "source": [
    "def compute_images_color_channels_modes(images_color_channels):\n",
    "    return [\n",
    "        compute_color_channels_modes(image_color_channels)\\\n",
    "        for image_color_channels in images_color_channels\n",
    "    ]"
   ]
  },
  {
   "cell_type": "code",
   "execution_count": null,
   "metadata": {},
   "outputs": [],
   "source": [
    "def get_image_pixels(color_channels):\n",
    "    return [\n",
    "        (channel0value, channel1value, channel2value) for channel0value, channel1value, channel2value\n",
    "           in zip(color_channels[0], color_channels[1], color_channels[2])\n",
    "    ]"
   ]
  },
  {
   "cell_type": "code",
   "execution_count": null,
   "metadata": {},
   "outputs": [],
   "source": [
    "def get_image_pixels(image):\n",
    "    color_channel0 = image[:, :, 0].ravel()\n",
    "    color_channel1 = image[:, :, 1].ravel()\n",
    "    color_channel2 = image[:, :, 2].ravel()\n",
    "    return [(x, y, z) for x, y, z in zip(color_channel0, color_channel1, color_channel2)]"
   ]
  },
  {
   "cell_type": "code",
   "execution_count": null,
   "metadata": {},
   "outputs": [],
   "source": [
    "def compare_color_channels_by_pixels(image):\n",
    "    image_pixels = get_image_pixels(image)\n",
    "    return [compare_pixel_color_channels_values(pixel) for pixel in image_pixels]"
   ]
  },
  {
   "cell_type": "code",
   "execution_count": null,
   "metadata": {},
   "outputs": [],
   "source": [
    "def compare_images_color_channels(images):\n",
    "    return [compare_color_channels_by_pixels(image) for image in images]"
   ]
  },
  {
   "cell_type": "code",
   "execution_count": null,
   "metadata": {},
   "outputs": [],
   "source": [
    "def count_image_color_channels(image):\n",
    "    if len(image.shape) == 2:\n",
    "        return 1\n",
    "    else:\n",
    "        return 3"
   ]
  },
  {
   "cell_type": "code",
   "execution_count": null,
   "metadata": {},
   "outputs": [],
   "source": [
    "whales_train_images_num = train_images_description_df.shape[0]\n",
    "whales_train_images_names_sample = random_objects_select(train_images_names, int(whales_train_images_num / 4))"
   ]
  },
  {
   "cell_type": "code",
   "execution_count": null,
   "metadata": {},
   "outputs": [],
   "source": [
    "'''\n",
    "whales_train_images = [\n",
    "    mpimg.imread(os.path.join(images_dir, image_name)) for image_name in whales_train_images_names_sample\n",
    "]\n",
    "'''\n",
    "\n",
    "'''\n",
    "whales_train_images = [\n",
    "    mpimg.imread(os.path.join(images_dir, image_name)) for image_name in train_images_names\n",
    "]\n",
    "'''"
   ]
  },
  {
   "cell_type": "code",
   "execution_count": null,
   "metadata": {},
   "outputs": [],
   "source": [
    "whales_train_images_dict = {\n",
    "    image_name: mpimg.imread(os.path.join(images_dir, image_name)) for image_name in train_images_names\n",
    "}"
   ]
  },
  {
   "cell_type": "code",
   "execution_count": null,
   "metadata": {},
   "outputs": [],
   "source": [
    "print(len(whales_train_images_dict))"
   ]
  },
  {
   "cell_type": "code",
   "execution_count": null,
   "metadata": {},
   "outputs": [],
   "source": [
    "print(\"whales_train_images_dict.values()[0].shape: \", tuple(whales_train_images_dict.values())[0].shape)"
   ]
  },
  {
   "cell_type": "code",
   "execution_count": null,
   "metadata": {},
   "outputs": [],
   "source": [
    "img = next(iter(whales_train_images_dict.values()))"
   ]
  },
  {
   "cell_type": "code",
   "execution_count": null,
   "metadata": {},
   "outputs": [],
   "source": [
    "img"
   ]
  },
  {
   "cell_type": "code",
   "execution_count": null,
   "metadata": {},
   "outputs": [],
   "source": [
    "plt.imshow(img)\n",
    "plt.show()"
   ]
  },
  {
   "cell_type": "code",
   "execution_count": null,
   "metadata": {},
   "outputs": [],
   "source": [
    "whales_train_images = tuple(whales_train_images_dict.values())"
   ]
  },
  {
   "cell_type": "code",
   "execution_count": null,
   "metadata": {},
   "outputs": [],
   "source": [
    "print(\"whales_train_images[3471].shape: \", whales_train_images[3471].shape)"
   ]
  },
  {
   "cell_type": "code",
   "execution_count": null,
   "metadata": {},
   "outputs": [],
   "source": [
    "whales_train_images[3471]"
   ]
  },
  {
   "cell_type": "code",
   "execution_count": null,
   "metadata": {},
   "outputs": [],
   "source": [
    "\n",
    "plt.imshow(whales_train_images[3471])\n",
    "plt.show()"
   ]
  },
  {
   "cell_type": "code",
   "execution_count": null,
   "metadata": {},
   "outputs": [],
   "source": [
    "#whales_images_subsample = whales_train_images[:40]\n",
    "whales_images_subsample = [whales_train_images_dict[img_name] for img_name in whales_train_images_names_sample[:40]]"
   ]
  },
  {
   "cell_type": "code",
   "execution_count": null,
   "metadata": {},
   "outputs": [],
   "source": [
    "show_images_grid(whales_images_subsample, 8, (24, 24), images_names_list=whales_train_images_names_sample[:40])"
   ]
  },
  {
   "cell_type": "code",
   "execution_count": null,
   "metadata": {},
   "outputs": [],
   "source": [
    "draw_images_with_histograms(whales_images_subsample[:40], 8, (24, 24), 20)"
   ]
  },
  {
   "cell_type": "code",
   "execution_count": null,
   "metadata": {},
   "outputs": [],
   "source": [
    "whales_train_images_mean_brightness = [\n",
    "    compute_whole_image_mean_brightnes(image) for image in whales_train_images\n",
    "]"
   ]
  },
  {
   "cell_type": "code",
   "execution_count": null,
   "metadata": {},
   "outputs": [],
   "source": [
    "fig = plt.figure(figsize=(24, 24))\n",
    "ax = fig.add_subplot(111)\n",
    "ax.hist(whales_train_images_mean_brightness, bins=300)\n",
    "ax.set_title(\"Mean brightnes distribution for train images\")\n",
    "#ax.set(title=\"Mean brightnes distribution for images with chips\")\n",
    "ax.set_xlabel(\"Mean brightness\")\n",
    "ax.set_ylabel(\"Num of images\")\n",
    "plt.show()"
   ]
  },
  {
   "cell_type": "code",
   "execution_count": null,
   "metadata": {},
   "outputs": [],
   "source": [
    "#random_selected_train_images = random_objects_select(train_images, 9000)"
   ]
  },
  {
   "cell_type": "code",
   "execution_count": null,
   "metadata": {},
   "outputs": [],
   "source": [
    "#print(type(random_selected_train_images[0]))\n",
    "#print(random_selected_train_images[0])"
   ]
  },
  {
   "cell_type": "code",
   "execution_count": null,
   "metadata": {},
   "outputs": [],
   "source": [
    "#random_selected_train_images_mean_brightness = [\n",
    "#    compute_whole_image_mean_brightnes(image) for image in random_selected_train_images\n",
    "#]"
   ]
  },
  {
   "cell_type": "code",
   "execution_count": null,
   "metadata": {},
   "outputs": [],
   "source": [
    "#fig = plt.figure(figsize=(24, 24))\n",
    "#ax = fig.add_subplot(111)\n",
    "#ax.hist(random_selected_train_images_mean_brightness, bins=100)\n",
    "#plt.show()"
   ]
  },
  {
   "cell_type": "code",
   "execution_count": null,
   "metadata": {},
   "outputs": [],
   "source": [
    "print(whales_train_images_mean_brightness[0])"
   ]
  },
  {
   "cell_type": "code",
   "execution_count": null,
   "metadata": {},
   "outputs": [],
   "source": [
    "print((sum(whales_train_images_mean_brightness)) / len(whales_train_images_mean_brightness))"
   ]
  },
  {
   "cell_type": "code",
   "execution_count": null,
   "metadata": {},
   "outputs": [],
   "source": [
    "print(type(whales_train_images[8].shape))"
   ]
  },
  {
   "cell_type": "code",
   "execution_count": null,
   "metadata": {},
   "outputs": [],
   "source": [
    "whales_train_images_shapes_counter_dict = {}\n",
    "for image in whales_train_images:\n",
    "    if image.shape in whales_train_images_shapes_counter_dict:\n",
    "        whales_train_images_shapes_counter_dict[image.shape] += 1\n",
    "    else:\n",
    "        whales_train_images_shapes_counter_dict[image.shape] = 1"
   ]
  },
  {
   "cell_type": "code",
   "execution_count": null,
   "metadata": {},
   "outputs": [],
   "source": [
    "len(whales_train_images_shapes_counter_dict)"
   ]
  },
  {
   "cell_type": "code",
   "execution_count": null,
   "metadata": {},
   "outputs": [],
   "source": [
    "for key, value in whales_train_images_shapes_counter_dict.items():\n",
    "    print(key, value)"
   ]
  },
  {
   "cell_type": "code",
   "execution_count": null,
   "metadata": {},
   "outputs": [],
   "source": [
    "whales_train_images_shapes_len_dict = {1: 0, 2: 0, 3: 0, 4: 0}\n",
    "for key in whales_train_images_shapes_counter_dict.keys():\n",
    "    whales_train_images_shapes_len_dict[len(key)] += 1"
   ]
  },
  {
   "cell_type": "code",
   "execution_count": null,
   "metadata": {},
   "outputs": [],
   "source": [
    "print(whales_train_images_shapes_len_dict)"
   ]
  },
  {
   "cell_type": "code",
   "execution_count": null,
   "metadata": {},
   "outputs": [],
   "source": [
    "whales_train_images_color_channels_counter_dict = {1: 0, 3: 0}\n",
    "for image in whales_train_images:\n",
    "    if len(image.shape) == 2:\n",
    "        whales_train_images_color_channels_counter_dict[1] += 1\n",
    "    elif len(image.shape) == 3 and image.shape[2] == 3:\n",
    "        whales_train_images_color_channels_counter_dict[3] += 1"
   ]
  },
  {
   "cell_type": "code",
   "execution_count": null,
   "metadata": {},
   "outputs": [],
   "source": [
    "print(whales_train_images_color_channels_counter_dict)"
   ]
  },
  {
   "cell_type": "code",
   "execution_count": null,
   "metadata": {},
   "outputs": [],
   "source": [
    "whales_train_images_color_channels_counter_dict[1] + whales_train_images_color_channels_counter_dict[3] == len(whales_train_images)"
   ]
  },
  {
   "cell_type": "code",
   "execution_count": null,
   "metadata": {},
   "outputs": [],
   "source": [
    "print(type(whales_train_images))\n",
    "print(len(whales_train_images))"
   ]
  },
  {
   "cell_type": "code",
   "execution_count": null,
   "metadata": {},
   "outputs": [],
   "source": [
    "#whales_train_images_color_channels = [get_image_color_channels(image) for image in whales_train_images]"
   ]
  },
  {
   "cell_type": "code",
   "execution_count": null,
   "metadata": {},
   "outputs": [],
   "source": [
    "group_by_id_train_images_description_df = train_images_description_df.groupby('Id')"
   ]
  },
  {
   "cell_type": "code",
   "execution_count": null,
   "metadata": {},
   "outputs": [],
   "source": [
    "example_of_grouped_objects = list(group_by_id_train_images_description_df)[:3]"
   ]
  },
  {
   "cell_type": "code",
   "execution_count": null,
   "metadata": {},
   "outputs": [],
   "source": [
    "for grouped_object in example_of_grouped_objects:\n",
    "    print(\"\\n*******\\ntype(grouped_object): \", type(grouped_object))\n",
    "    print(\"\\ngrouped_object:\\n\", grouped_object)\n",
    "    '''\n",
    "    print(\"\\ntype(grouped_object[0]): {}, type(grouped_object[1]): {}, type(grouped_object[2]): {} \\n\\n\".format(\n",
    "            type(grouped_object[0]),\n",
    "            type(grouped_object[1]),\n",
    "            type(grouped_object[2])\n",
    "        )\n",
    "    )\n",
    "    '''\n",
    "    print(\"\\ntype(grouped_object[0]): {}, type(grouped_object[1]): {}\\n\\n\".format(\n",
    "            type(grouped_object[0]),\n",
    "            type(grouped_object[1])\n",
    "        )\n",
    "    )"
   ]
  },
  {
   "cell_type": "code",
   "execution_count": null,
   "metadata": {},
   "outputs": [],
   "source": [
    "count_of_images_with_particular_id = group_by_id_train_images_description_df.count()"
   ]
  },
  {
   "cell_type": "code",
   "execution_count": null,
   "metadata": {},
   "outputs": [],
   "source": [
    "type(count_of_images_with_particular_id)"
   ]
  },
  {
   "cell_type": "code",
   "execution_count": null,
   "metadata": {},
   "outputs": [],
   "source": [
    "count_of_images_with_particular_id.shape"
   ]
  },
  {
   "cell_type": "code",
   "execution_count": null,
   "metadata": {},
   "outputs": [],
   "source": [
    "count_of_images_with_particular_id.head()"
   ]
  },
  {
   "cell_type": "code",
   "execution_count": null,
   "metadata": {},
   "outputs": [],
   "source": [
    "sorted_count_of_images_with_particular_id = count_of_images_with_particular_id.sort_values(by=\"Image\")"
   ]
  },
  {
   "cell_type": "code",
   "execution_count": null,
   "metadata": {},
   "outputs": [],
   "source": [
    "type(sorted_count_of_images_with_particular_id)"
   ]
  },
  {
   "cell_type": "code",
   "execution_count": null,
   "metadata": {},
   "outputs": [],
   "source": [
    "sorted_count_of_images_with_particular_id.tail()"
   ]
  },
  {
   "cell_type": "code",
   "execution_count": null,
   "metadata": {},
   "outputs": [],
   "source": [
    "id_with_many_images_df = sorted_count_of_images_with_particular_id[sorted_count_of_images_with_particular_id['Image'] > 1]"
   ]
  },
  {
   "cell_type": "code",
   "execution_count": null,
   "metadata": {},
   "outputs": [],
   "source": [
    "id_with_many_images_df.shape"
   ]
  },
  {
   "cell_type": "code",
   "execution_count": null,
   "metadata": {},
   "outputs": [],
   "source": [
    "id_with_one_image_df = sorted_count_of_images_with_particular_id[sorted_count_of_images_with_particular_id['Image'] == 1]"
   ]
  },
  {
   "cell_type": "code",
   "execution_count": null,
   "metadata": {},
   "outputs": [],
   "source": [
    "id_with_one_image_df.shape"
   ]
  },
  {
   "cell_type": "code",
   "execution_count": null,
   "metadata": {},
   "outputs": [],
   "source": [
    "id_with_many_images_df.shape[0] + id_with_one_image_df.shape[0] == count_of_images_with_particular_id.shape[0]"
   ]
  },
  {
   "cell_type": "code",
   "execution_count": null,
   "metadata": {},
   "outputs": [],
   "source": [
    "type(group_by_id_train_images_description_df)"
   ]
  },
  {
   "cell_type": "code",
   "execution_count": null,
   "metadata": {},
   "outputs": [],
   "source": [
    "type(whales_train_images)"
   ]
  },
  {
   "cell_type": "code",
   "execution_count": null,
   "metadata": {},
   "outputs": [],
   "source": [
    "whales_train_images[0]"
   ]
  },
  {
   "cell_type": "code",
   "execution_count": null,
   "metadata": {},
   "outputs": [],
   "source": [
    "train_images_description_df_extend = train_images_description_df.copy()"
   ]
  },
  {
   "cell_type": "code",
   "execution_count": null,
   "metadata": {},
   "outputs": [],
   "source": [
    "train_images_description_df_extend is train_images_description_df"
   ]
  },
  {
   "cell_type": "code",
   "execution_count": null,
   "metadata": {},
   "outputs": [],
   "source": [
    "train_images_description_df_extend == train_images_description_df"
   ]
  },
  {
   "cell_type": "code",
   "execution_count": null,
   "metadata": {},
   "outputs": [],
   "source": [
    "train_images_description_df_extend['new_whale_feature'] = 1"
   ]
  },
  {
   "cell_type": "code",
   "execution_count": null,
   "metadata": {},
   "outputs": [],
   "source": [
    "train_images_description_df_extend.loc[train_images_description_df_extend['Id'] != 'new_whale', 'new_whale_feature'] = 0 "
   ]
  },
  {
   "cell_type": "code",
   "execution_count": null,
   "metadata": {},
   "outputs": [],
   "source": [
    "train_images_description_df_extend[train_images_description_df_extend['new_whale_feature'] == 0].shape[0]"
   ]
  },
  {
   "cell_type": "code",
   "execution_count": null,
   "metadata": {},
   "outputs": [],
   "source": [
    "train_images_description_df_extend[train_images_description_df_extend['new_whale_feature'] == 1].shape[0]"
   ]
  },
  {
   "cell_type": "code",
   "execution_count": null,
   "metadata": {},
   "outputs": [],
   "source": [
    "train_images_description_df_extend.head()"
   ]
  },
  {
   "cell_type": "code",
   "execution_count": null,
   "metadata": {},
   "outputs": [],
   "source": [
    "new_whale_image_names = train_images_description_df_extend.loc[train_images_description_df_extend['new_whale_feature'] == 1, 'Image']"
   ]
  },
  {
   "cell_type": "code",
   "execution_count": null,
   "metadata": {},
   "outputs": [],
   "source": [
    "new_whale_image_names.head()"
   ]
  },
  {
   "cell_type": "code",
   "execution_count": null,
   "metadata": {},
   "outputs": [],
   "source": [
    "for item in new_whale_image_names.head():\n",
    "    print(item)"
   ]
  },
  {
   "cell_type": "code",
   "execution_count": null,
   "metadata": {},
   "outputs": [],
   "source": [
    "new_whales_train_images_mean_brightness = [\n",
    "    compute_whole_image_mean_brightnes(image) for image in (\n",
    "        whales_train_images_dict[img_name] for img_name in new_whale_image_names\n",
    "    )\n",
    "]"
   ]
  },
  {
   "cell_type": "code",
   "execution_count": null,
   "metadata": {},
   "outputs": [],
   "source": [
    "fig = plt.figure(figsize=(24, 24))\n",
    "ax = fig.add_subplot(111)\n",
    "ax.hist(new_whales_train_images_mean_brightness, bins=300)\n",
    "ax.set_title(\"Mean brightnes distribution for new whales train images\")\n",
    "#ax.set(title=\"Mean brightnes distribution for images with chips\")\n",
    "ax.set_xlabel(\"Mean brightness\")\n",
    "ax.set_ylabel(\"Num of images\")\n",
    "plt.show()"
   ]
  },
  {
   "cell_type": "code",
   "execution_count": null,
   "metadata": {},
   "outputs": [],
   "source": []
  }
 ],
 "metadata": {
  "kernelspec": {
   "display_name": "Python 3",
   "language": "python",
   "name": "python3"
  },
  "language_info": {
   "codemirror_mode": {
    "name": "ipython",
    "version": 3
   },
   "file_extension": ".py",
   "mimetype": "text/x-python",
   "name": "python",
   "nbconvert_exporter": "python",
   "pygments_lexer": "ipython3",
   "version": "3.6.6"
  }
 },
 "nbformat": 4,
 "nbformat_minor": 2
}
