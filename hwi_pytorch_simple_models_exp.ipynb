{
 "cells": [
  {
   "cell_type": "code",
   "execution_count": 1,
   "metadata": {},
   "outputs": [],
   "source": [
    "import os\n",
    "import importlib\n",
    "import time\n",
    "\n",
    "import numpy as np\n",
    "import pandas as pd\n",
    "\n",
    "import matplotlib.image as mpimg\n",
    "import matplotlib.pyplot as plt\n",
    "import seaborn as sns\n",
    "import sklearn\n",
    "import skimage\n",
    "from skimage import transform as skimg_transform\n",
    "#from skimage import io as img_io\n",
    "from PIL import Image\n",
    "\n",
    "import torch\n",
    "import torch.nn as nn\n",
    "import torch.nn.functional as F\n",
    "import torch.optim as optim\n",
    "from torchvision import transforms, utils, models\n",
    "from torch.utils import data\n",
    "from torch.utils.data.sampler import SubsetRandomSampler\n",
    "\n",
    "import load_data\n",
    "import model\n",
    "import warnings"
   ]
  },
  {
   "cell_type": "code",
   "execution_count": 2,
   "metadata": {},
   "outputs": [
    {
     "data": {
      "text/plain": [
       "<module 'model' from '/home/uldo/work/kaggle/competitions/Humpback_Whale_Identification/code/model.py'>"
      ]
     },
     "execution_count": 2,
     "metadata": {},
     "output_type": "execute_result"
    }
   ],
   "source": [
    "plt.style.use('Solarize_Light2')\n",
    "warnings.filterwarnings('ignore')\n",
    "%matplotlib inline\n",
    "importlib.reload(load_data)\n",
    "importlib.reload(model)"
   ]
  },
  {
   "cell_type": "code",
   "execution_count": 3,
   "metadata": {},
   "outputs": [],
   "source": [
    "#BATCH_SIZE = 100\n",
    "#BATCH_SIZE = 32\n",
    "#BATCH_SIZE = 200\n",
    "BATCH_SIZE = 128\n",
    "#BATCH_SIZE = 64\n",
    "#BATCH_SIZE = 32\n",
    "#IMAGE_W = 100\n",
    "IMAGE_W = 256\n",
    "#IMAGE_W = 64\n",
    "#IMAGE_H = 100\n",
    "IMAGE_H = 256\n",
    "#IMAGE_H = 64"
   ]
  },
  {
   "cell_type": "code",
   "execution_count": 4,
   "metadata": {},
   "outputs": [],
   "source": [
    "class HWI_ConvNeuralNet(nn.Module):\n",
    "    \n",
    "    def __init__(self):\n",
    "        super(HWI_ConvNeuralNet, self).__init__()\n",
    "        '''\n",
    "        self.conv1 = nn.Sequential(\n",
    "            nn.Conv2d(3, 6, 5, 1, 2),\n",
    "            nn.ReLU(),\n",
    "            nn.MaxPool2d(kernel_size=2)\n",
    "        )\n",
    "        self.conv2 = nn.Sequential(\n",
    "            nn.Conv2d(6, 12, 5, 1, 2),\n",
    "            nn.ReLU(),\n",
    "            nn.MaxPool2d(kernel_size=2)\n",
    "        )\n",
    "        self.drop_out = nn.Dropout()\n",
    "        self.out1 = nn.Linear(int(12 * IMAGE_W/4 * IMAGE_H/4), 900)\n",
    "        self.out2 = nn.Linear(900, 1)\n",
    "        '''\n",
    "        self.conv1 = nn.Conv2d(3, 32, kernel_size=9, stride=2, padding=4)\n",
    "        #self.conv2 = nn.Conv2d(32, 64, kernel_size=3, stride=1, padding=1)\n",
    "        self.conv2 = nn.Conv2d(32, 64, kernel_size=5, stride=2, padding=2)\n",
    "        #self.fc1 = nn.Linear(int(IMAGE_H * IMAGE_W 131072 x 16), 1024)\n",
    "        #self.fc1 = nn.Linear(524288 * 64, 1024)\n",
    "        self.fc1 = nn.Linear(32768 * 16, 1024)\n",
    "        self.fc2 = nn.Linear(1024, 32)\n",
    "        self.pool = torch.nn.MaxPool2d(kernel_size=2, stride=2, padding=0)\n",
    "        self.sigmoid = nn.Sigmoid()\n",
    "        self.dropout = nn.Dropout(0.5)\n",
    "        \n",
    "        #forward, input x.size():  torch.Size([64, 3, 256, 256])\n",
    "        #forward, after F.relu(self.conv1(x)) x.size():  torch.Size([64, 32, 128, 128])\n",
    "        #forward, after self.pool(x) x.size():  torch.Size([64, 32, 64, 64])\n",
    "        #forward, after F.relu(self.conv2(x)) x.size():  torch.Size([64, 64, 32, 32])\n",
    "        #forward, after self.pool(x) x.size():  torch.Size([64, 64, 16, 16])\n",
    "        #forward, after x.view(-1, 65536 * 16) x.size():  torch.Size([1, 1048576])\n",
    "        #forward, after F.relu(self.fc1(x)) x.size():  torch.Size([1, 1024])\n",
    "        #forward, after self.dropout x.size():  torch.Size([1, 1024])\n",
    "        #forward, after self.fc2 x.size():  torch.Size([1, 1])\n",
    "        #forward, after self.sigmoid(x) x.size():  torch.Size([1, 1])\n",
    "        \n",
    "    def forward(self, x):\n",
    "        '''\n",
    "        x = self.conv1(x)\n",
    "        x = self.conv2(x)\n",
    "        x = x.view(x.size(0), -1)\n",
    "        output = self.drop_out(x)\n",
    "        output = self.out1(x)\n",
    "        output = self.out2(output)\n",
    "        #return output, x\n",
    "        return output[:, 0]\n",
    "        '''\n",
    "        #print(\"forward, input x.size(): \", x.size())\n",
    "        \n",
    "        x = F.relu(self.conv1(x))\n",
    "        #print(\"forward, after F.relu(self.conv1(x)) x.size(): \", x.size())\n",
    "        x = self.pool(x)\n",
    "        #print(\"forward, after self.pool(x) x.size(): \", x.size())\n",
    "        x = F.relu(self.conv2(x))\n",
    "        #print(\"forward, after F.relu(self.conv2(x)) x.size(): \", x.size())\n",
    "        x = self.pool(x)     \n",
    "        #print(\"forward, after self.pool(x) x.size(): \", x.size())  \n",
    "        x = x.view(-1, 32768 * 16)\n",
    "        #print(\"forward, after x.view(-1, 65536 * 16) x.size(): \", x.size())\n",
    "        x = F.relu(self.fc1(x))\n",
    "        #print(\"forward, after F.relu(self.fc1(x)) x.size(): \", x.size())\n",
    "        x = self.dropout(x)\n",
    "        #print(\"forward, after self.dropout x.size(): \", x.size())\n",
    "        x = self.fc2(x)\n",
    "        #print(\"forward, after self.fc2 x.size(): \", x.size())\n",
    "        x = self.sigmoid(x)\n",
    "        #print(\"forward, after self.sigmoid(x) x.size(): \", x.size())\n",
    "        return x\n",
    "        "
   ]
  },
  {
   "cell_type": "code",
   "execution_count": 5,
   "metadata": {},
   "outputs": [],
   "source": [
    "class Rescale(object):\n",
    "    \"\"\"Rescale the image in a sample to a given size.\n",
    "\n",
    "    Args:\n",
    "        output_size (tuple or int): Desired output size. If tuple, output is\n",
    "            matched to output_size. If int, smaller of image edges is matched\n",
    "            to output_size keeping aspect ratio the same.\n",
    "    \"\"\"\n",
    "\n",
    "    def __init__(self, output_size):\n",
    "        assert isinstance(output_size, (int, tuple))\n",
    "        self.output_size = output_size\n",
    "\n",
    "    def __call__(self, sample):\n",
    "        image, label = sample['image'], sample['label']\n",
    "\n",
    "        orig_height, orig_width = image.shape[:2]\n",
    "        if isinstance(self.output_size, int):\n",
    "            if orig_height > orig_width:\n",
    "                new_height, new_width = self.output_size * orig_height / orig_width, self.output_size\n",
    "            else:\n",
    "                new_height, new_width = self.output_size, self.output_size * orig_width / orig_height\n",
    "        else:\n",
    "            new_height, new_width = self.output_size\n",
    "\n",
    "        new_height, new_width = int(new_height), int(new_width)\n",
    "\n",
    "        img = skimg_transform.resize(image, (new_height, new_width))\n",
    "\n",
    "        return {'image': img, 'label': label}"
   ]
  },
  {
   "cell_type": "code",
   "execution_count": 6,
   "metadata": {},
   "outputs": [],
   "source": [
    "class UnifyRescale(object):\n",
    "    \n",
    "    def __init__(self, output_size=128):\n",
    "        assert isinstance(output_size, int)\n",
    "        self.output_size = output_size\n",
    "        \n",
    "    def __call__(self, sample):\n",
    "        image, label = sample['image'], sample['label']\n",
    "\n",
    "        img = skimg_transform.resize(image, (self.output_size, self.output_size))\n",
    "\n",
    "        return {'image': img, 'label': label}"
   ]
  },
  {
   "cell_type": "code",
   "execution_count": 7,
   "metadata": {},
   "outputs": [],
   "source": [
    "class RandomCrop(object):\n",
    "    \"\"\"Crop randomly the image in a sample.\n",
    "\n",
    "    Args:\n",
    "        output_size (tuple or int): Desired output size. If int, square crop\n",
    "            is made.\n",
    "    \"\"\"\n",
    "\n",
    "    def __init__(self, output_size):\n",
    "        assert isinstance(output_size, (int, tuple))\n",
    "        if isinstance(output_size, int):\n",
    "            self.output_size = (output_size, output_size)\n",
    "        else:\n",
    "            assert len(output_size) == 2\n",
    "            self.output_size = output_size\n",
    "\n",
    "    def __call__(self, sample):\n",
    "        image, label = sample['image'], sample['label']\n",
    "\n",
    "        orig_height, orig_width = image.shape[:2]\n",
    "        new_height, new_width = self.output_size\n",
    "\n",
    "        top = np.random.randint(0, orig_height - new_height)\n",
    "        left = np.random.randint(0, orig_width - new_width)\n",
    "\n",
    "        image = image[top: top + new_height, left: left + new_width]\n",
    "\n",
    "        return {'image': image, 'label': label}"
   ]
  },
  {
   "cell_type": "code",
   "execution_count": 8,
   "metadata": {},
   "outputs": [],
   "source": [
    "class ToTensor(object):\n",
    "    \n",
    "    \"\"\"Convert ndarrays in sample to Tensors.\"\"\"\n",
    "    def __init__(self, image_size=128):\n",
    "        self.image_size = image_size\n",
    "\n",
    "    def __call__(self, sample):\n",
    "        image, label = sample['image'], sample['label']\n",
    "\n",
    "        # swap color axis because\n",
    "        # numpy image: H x W x C\n",
    "        # torch image: C X H X W\n",
    "        \n",
    "        \"\"\" The original code didn't expect gray scale images \"\"\"\n",
    "        \n",
    "        gray_scale_image = torch.zeros(\n",
    "            [self.image_size, self.image_size]\n",
    "        ).shape == image.shape\n",
    "        if gray_scale_image:\n",
    "            image = np.stack((image,) * 3, axis=-1)\n",
    "        \n",
    "        image = image.transpose((2, 0, 1))\n",
    "        return {'image': torch.from_numpy(image), 'label': torch.tensor(label, dtype=torch.uint8)}"
   ]
  },
  {
   "cell_type": "code",
   "execution_count": 9,
   "metadata": {},
   "outputs": [],
   "source": [
    "def show_whale_batch(sample_batched):\n",
    "    \"\"\"Show whales for a batch of samples.\"\"\"\n",
    "    images_batch = sample_batched['image']\n",
    "    labels_batch = sample_batched['label']\n",
    "    batch_size = len(images_batch)\n",
    "    im_size = images_batch.size(2)\n",
    "\n",
    "    grid = utils.make_grid(images_batch)\n",
    "    plt.imshow(grid.numpy().transpose((1, 2, 0))[:, :, 0], cmap='gray')\n",
    "    \n",
    "    '''\n",
    "    for image in images_batch:\n",
    "        print(\"image.size()\", image.size())\n",
    "        as_np = image.numpy().transpose((1, 2, 0))[:, :, 0]\n",
    "        print(\"as_np.shape\", as_np.shape)\n",
    "        #plt.imshow(image.numpy().transpose((1, 2, 0)))\n",
    "        plt.imshow(as_np)\n",
    "    '''\n",
    "    for i in range(batch_size):\n",
    "        plt.title('Batch from dataloader')"
   ]
  },
  {
   "cell_type": "code",
   "execution_count": 10,
   "metadata": {},
   "outputs": [],
   "source": [
    "def prepare_loaders(dataset, valid_train_ratio=0.6):\n",
    "    dataset_size = len(dataset)\n",
    "    print(\"dataset_size: \", dataset_size)\n",
    "\n",
    "    validation_subset_size = int(dataset_size * (1 - valid_train_ratio))\n",
    "    print(\"validation_subset_size: \", validation_subset_size)\n",
    "\n",
    "    indices = list(range(dataset_size))\n",
    "    validation_indices = np.random.choice(indices, size=validation_subset_size, replace=False)\n",
    "    train_indices = list(set(indices) - set(validation_indices))\n",
    "\n",
    "    train_sampler = SubsetRandomSampler(train_indices)\n",
    "    validation_sampler = SubsetRandomSampler(validation_indices)\n",
    "    \n",
    "    dataset_sizes = {\n",
    "            'train': len(train_indices),\n",
    "            'validation': len(validation_indices)\n",
    "        }\n",
    "\n",
    "    #train_loader = data.DataLoader(dataset, batch_size=BATCH_SIZE, num_workers=1, sampler=train_sampler, pin_memory=True)\n",
    "    train_loader = data.DataLoader(dataset, batch_size=BATCH_SIZE, num_workers=1, sampler=train_sampler)\n",
    "    #validation_loader = data.DataLoader(dataset, batch_size=BATCH_SIZE, num_workers=1, sampler=validation_sampler, pin_memory=True)\n",
    "    validation_loader = data.DataLoader(dataset, batch_size=BATCH_SIZE, num_workers=1, sampler=validation_sampler)\n",
    "    loaders = {\n",
    "            'train': train_loader,\n",
    "            'validation': validation_loader\n",
    "        }\n",
    "\n",
    "    return loaders, dataset_sizes"
   ]
  },
  {
   "cell_type": "code",
   "execution_count": 11,
   "metadata": {},
   "outputs": [],
   "source": [
    "def unfold_batch(batch):\n",
    "    return batch['image'], batch['label']"
   ]
  },
  {
   "cell_type": "code",
   "execution_count": 12,
   "metadata": {},
   "outputs": [],
   "source": [
    "def one_epoch_train(model, data_loader, criterion, optimizer):\n",
    "    \n",
    "    accuracy = 0.0\n",
    "    total_loss = 0.0\n",
    "    correct_predicted_total = 0.0\n",
    "    \n",
    "    for i, data_batch in enumerate(data_loader, 0):\n",
    "        #print(\"one_epoch_model_process, len(data_batch): \", len(data_batch))\n",
    "        #print(\"one_epoch_model_process, type(data_batch): \", type(data_batch))        \n",
    "        \n",
    "        inputs, labels = unfold_batch(data_batch)\n",
    "        #print(\"one_epoch_model_process, inputs.size(): \", inputs.size())\n",
    "        if inputs.size()[0] == BATCH_SIZE:\n",
    "            \n",
    "            \n",
    "            #print(\"inputs: \", inputs)\n",
    "            #print(\"labels: \", labels)\n",
    "            #print(\"inputs.size(): \", inputs.size())\n",
    "            #print(\"type(inputs): \", type(inputs))\n",
    "        \n",
    "            inputs = inputs.to(device, dtype=torch.float)\n",
    "            labels = labels.to(device, dtype=torch.float)\n",
    "            #labels = labels.to(device, dtype=torch.long)\n",
    "            optimizer.zero_grad()\n",
    "        \n",
    "            \n",
    "            outputs = model(inputs)\n",
    "\n",
    "            #print(\"outputs.size():\\n\", outputs.size())\n",
    "            #print(\"labels.size():\\n\", labels.size())\n",
    "            #print(\"outputs:\\n\", outputs)\n",
    "            #print(\"outputs[:, 0]:\\n\", outputs[:, 0])\n",
    "            #print(\"labels:\\n\", labels)\n",
    "            loss = criterion(outputs, labels)\n",
    "            loss.backward()\n",
    "            optimizer.step()\n",
    "        \n",
    "            total_loss += loss.item() * inputs.size(0)\n",
    "        \n",
    "            predicted = outputs > 0\n",
    "            #print(\"type(predicted): \", type(predicted))\n",
    "            #print(\"predicted:\\n\", predicted)\n",
    "            ##print(\"predicted.size():\", predicted.size())\n",
    "            ##print(\"predicted:\\n\", predicted)\n",
    "            #total += labels.size(0)\n",
    "            labels = labels.data.byte()\n",
    "            ##print(\"\\nlabels.size():\", labels.size())\n",
    "            ##print(\"labels:\\n\", labels)\n",
    "            #print(\"predicted == labels:\\n\", predicted == labels)\n",
    "            #sum_of_correct_predicted = torch.sum((predicted == labels).all(1))\n",
    "            sum_of_correct_predicted = torch.sum((predicted[0] == labels))\n",
    "            ##print(\"\\nsum_of_correct_predicted.size():\\n\", sum_of_correct_predicted.size())\n",
    "            ##print(\"sum_of_correct_predicted:\\n\", sum_of_correct_predicted)\n",
    "            \n",
    "            item = sum_of_correct_predicted.item()\n",
    "            ##print(\"\\nitem.size(): \", item)\n",
    "            ##print(\"item:\\n\", item)\n",
    "            correct_predicted_total += item\n",
    "        \n",
    "    accuracy = correct_predicted_total\n",
    "    \n",
    "    #epoch_train_loss = total_loss / train_dataset_size\n",
    "    #epoch_train_accuracy = correct_predicted_total / train_dataset_size\n",
    "    return (total_loss, accuracy)"
   ]
  },
  {
   "cell_type": "code",
   "execution_count": 13,
   "metadata": {},
   "outputs": [],
   "source": [
    "def one_epoch_validate(model, data_loader, criterion):\n",
    "    model.eval()\n",
    "    with torch.no_grad():\n",
    "        \n",
    "        correct_predicted_total = 0.0\n",
    "        total_loss = 0.0\n",
    "\n",
    "        for data_batch in data_loader:\n",
    "            inputs, labels = unfold_batch(data_batch)\n",
    "            if inputs.size()[0] == BATCH_SIZE:\n",
    "\n",
    "                inputs = inputs.to(device, dtype=torch.float)\n",
    "                labels = labels.to(device, dtype=torch.float)\n",
    "                #labels = labels.to(device, dtype=torch.long)\n",
    "                outputs = model(inputs)\n",
    "            \n",
    "                loss = criterion(outputs, labels)\n",
    "                total_loss += loss.item() * inputs.size(0)\n",
    "            \n",
    "                predicted = outputs > 0\n",
    "            \n",
    "                labels = labels.data.byte()\n",
    "                sum_of_correct_predicted = torch.sum((predicted[0] == labels))\n",
    "                item = sum_of_correct_predicted.item()\n",
    "\n",
    "                correct_predicted_total += item\n",
    "\n",
    "        accuracy = correct_predicted_total        \n",
    "\n",
    "    return (total_loss, accuracy)"
   ]
  },
  {
   "cell_type": "code",
   "execution_count": 14,
   "metadata": {},
   "outputs": [],
   "source": [
    "def train_model(num_of_epoch, model, dataset_loaders, dataset_sizes, criterion, optimizer):\n",
    "    torch.cuda.empty_cache()\n",
    "    since = time.time()\n",
    "    \n",
    "    train_loader = dataset_loaders['train']\n",
    "    validation_loader = dataset_loaders['validation']\n",
    "    train_dataset_size = dataset_sizes['train']\n",
    "    validation_dataset_size = dataset_sizes['validation']\n",
    "    \n",
    "    best_model_accuracy = 0.0\n",
    "    best_model_weights = model.state_dict()\n",
    "    \n",
    "    train_losses = []\n",
    "    train_accuracies = []\n",
    "    validation_losses = []\n",
    "    validation_accuracies = []\n",
    "    \n",
    "    for epoch in range(num_of_epoch):\n",
    "        \n",
    "        train_loss, train_accuracy = one_epoch_train(model, train_loader, criterion, optimizer)\n",
    "        train_losses.append(train_loss / train_dataset_size)\n",
    "        train_accuracies.append(train_accuracy / train_dataset_size)\n",
    "        \n",
    "        validation_loss, validation_accuracy = one_epoch_validate(model, validation_loader, criterion)\n",
    "        validation_losses.append(validation_loss / validation_dataset_size)\n",
    "        validation_accuracies.append(validation_accuracy / validation_dataset_size)\n",
    "        \n",
    "        if validation_accuracy > best_model_accuracy:\n",
    "            best_model_accuracy = validation_accuracy\n",
    "            best_model_weights = model.state_dict()\n",
    "        \n",
    "        print(\"Epoch {}: train loss {}, train accuracy\"\n",
    "          \" {}, validation loss {}, validation accuracy {}\".format(\n",
    "              epoch + 1,\n",
    "              train_loss / train_dataset_size,\n",
    "              train_accuracy / train_dataset_size,\n",
    "              validation_loss / validation_dataset_size,\n",
    "              validation_accuracy / validation_dataset_size\n",
    "            )\n",
    "        )\n",
    "    print(\"Finished Training\")\n",
    "    time_elapsed = time.time() - since\n",
    "    print(\n",
    "            'Training complete in {:.0f}m {:.0f}s'.format(\n",
    "            time_elapsed // 60, time_elapsed % 60\n",
    "        )\n",
    "    )\n",
    "    print(\"Best model accuracy: \", best_model_accuracy / validation_dataset_size)\n",
    "    model.load_state_dict(best_model_weights)\n",
    "    return train_losses, validation_losses, train_accuracies, validation_accuracies"
   ]
  },
  {
   "cell_type": "code",
   "execution_count": 15,
   "metadata": {},
   "outputs": [],
   "source": [
    "def run_model(model, batch):\n",
    "    device = torch.device('cuda:0' if torch.cuda.is_available() else 'cpu')\n",
    "    model.to(device)\n",
    "    #inputs = batch\n",
    "    #inputs = inputs.to(device, dtype=torch.float)\n",
    "    inputs = batch.to(device, dtype=torch.float)\n",
    "    outputs = model(inputs)\n",
    "    #return outputs[0].cpu()\n",
    "    return outputs.cpu()"
   ]
  },
  {
   "cell_type": "code",
   "execution_count": 16,
   "metadata": {},
   "outputs": [],
   "source": [
    "def save_model(model, full=True, name='model'):\n",
    "    if not full:\n",
    "        torch.save(model.state_dict(), '{}_params.pkl'.format(name))\n",
    "    else:\n",
    "        torch.save(model, '{}.pkl'.format(name))\n",
    "    return"
   ]
  },
  {
   "cell_type": "code",
   "execution_count": 17,
   "metadata": {},
   "outputs": [],
   "source": [
    "def restore_model(name='model'):\n",
    "    return torch.load('{}.pkl'.format(name))"
   ]
  },
  {
   "cell_type": "code",
   "execution_count": 18,
   "metadata": {},
   "outputs": [],
   "source": [
    "train_df = load_data.load_text_data('../input/train.csv')"
   ]
  },
  {
   "cell_type": "code",
   "execution_count": 19,
   "metadata": {},
   "outputs": [],
   "source": [
    "train_df_two_classes = train_df.copy()"
   ]
  },
  {
   "cell_type": "code",
   "execution_count": 20,
   "metadata": {},
   "outputs": [],
   "source": [
    "train_df_two_classes.loc[train_df_two_classes['Id'] != 'new_whale', 'Id'] = 'not_new_whale'"
   ]
  },
  {
   "cell_type": "code",
   "execution_count": 21,
   "metadata": {},
   "outputs": [
    {
     "data": {
      "text/html": [
       "<div>\n",
       "<style scoped>\n",
       "    .dataframe tbody tr th:only-of-type {\n",
       "        vertical-align: middle;\n",
       "    }\n",
       "\n",
       "    .dataframe tbody tr th {\n",
       "        vertical-align: top;\n",
       "    }\n",
       "\n",
       "    .dataframe thead th {\n",
       "        text-align: right;\n",
       "    }\n",
       "</style>\n",
       "<table border=\"1\" class=\"dataframe\">\n",
       "  <thead>\n",
       "    <tr style=\"text-align: right;\">\n",
       "      <th></th>\n",
       "      <th>Image</th>\n",
       "      <th>Id</th>\n",
       "    </tr>\n",
       "  </thead>\n",
       "  <tbody>\n",
       "    <tr>\n",
       "      <th>0</th>\n",
       "      <td>0000e88ab.jpg</td>\n",
       "      <td>not_new_whale</td>\n",
       "    </tr>\n",
       "    <tr>\n",
       "      <th>1</th>\n",
       "      <td>0001f9222.jpg</td>\n",
       "      <td>not_new_whale</td>\n",
       "    </tr>\n",
       "    <tr>\n",
       "      <th>2</th>\n",
       "      <td>00029d126.jpg</td>\n",
       "      <td>not_new_whale</td>\n",
       "    </tr>\n",
       "    <tr>\n",
       "      <th>3</th>\n",
       "      <td>00050a15a.jpg</td>\n",
       "      <td>new_whale</td>\n",
       "    </tr>\n",
       "    <tr>\n",
       "      <th>4</th>\n",
       "      <td>0005c1ef8.jpg</td>\n",
       "      <td>new_whale</td>\n",
       "    </tr>\n",
       "    <tr>\n",
       "      <th>5</th>\n",
       "      <td>0006e997e.jpg</td>\n",
       "      <td>new_whale</td>\n",
       "    </tr>\n",
       "    <tr>\n",
       "      <th>6</th>\n",
       "      <td>000a6daec.jpg</td>\n",
       "      <td>not_new_whale</td>\n",
       "    </tr>\n",
       "    <tr>\n",
       "      <th>7</th>\n",
       "      <td>000f0f2bf.jpg</td>\n",
       "      <td>new_whale</td>\n",
       "    </tr>\n",
       "    <tr>\n",
       "      <th>8</th>\n",
       "      <td>0016b897a.jpg</td>\n",
       "      <td>not_new_whale</td>\n",
       "    </tr>\n",
       "    <tr>\n",
       "      <th>9</th>\n",
       "      <td>001c1ac5f.jpg</td>\n",
       "      <td>not_new_whale</td>\n",
       "    </tr>\n",
       "    <tr>\n",
       "      <th>10</th>\n",
       "      <td>001cae55b.jpg</td>\n",
       "      <td>not_new_whale</td>\n",
       "    </tr>\n",
       "    <tr>\n",
       "      <th>11</th>\n",
       "      <td>001d7450c.jpg</td>\n",
       "      <td>new_whale</td>\n",
       "    </tr>\n",
       "    <tr>\n",
       "      <th>12</th>\n",
       "      <td>00200e115.jpg</td>\n",
       "      <td>new_whale</td>\n",
       "    </tr>\n",
       "    <tr>\n",
       "      <th>13</th>\n",
       "      <td>00245a598.jpg</td>\n",
       "      <td>new_whale</td>\n",
       "    </tr>\n",
       "    <tr>\n",
       "      <th>14</th>\n",
       "      <td>002b4615d.jpg</td>\n",
       "      <td>new_whale</td>\n",
       "    </tr>\n",
       "    <tr>\n",
       "      <th>15</th>\n",
       "      <td>002f99f01.jpg</td>\n",
       "      <td>new_whale</td>\n",
       "    </tr>\n",
       "    <tr>\n",
       "      <th>16</th>\n",
       "      <td>00355ff28.jpg</td>\n",
       "      <td>not_new_whale</td>\n",
       "    </tr>\n",
       "    <tr>\n",
       "      <th>17</th>\n",
       "      <td>00357e37a.jpg</td>\n",
       "      <td>not_new_whale</td>\n",
       "    </tr>\n",
       "    <tr>\n",
       "      <th>18</th>\n",
       "      <td>003795857.jpg</td>\n",
       "      <td>new_whale</td>\n",
       "    </tr>\n",
       "    <tr>\n",
       "      <th>19</th>\n",
       "      <td>0041880bf.jpg</td>\n",
       "      <td>new_whale</td>\n",
       "    </tr>\n",
       "    <tr>\n",
       "      <th>20</th>\n",
       "      <td>0043da555.jpg</td>\n",
       "      <td>new_whale</td>\n",
       "    </tr>\n",
       "    <tr>\n",
       "      <th>21</th>\n",
       "      <td>00442c882.jpg</td>\n",
       "      <td>not_new_whale</td>\n",
       "    </tr>\n",
       "    <tr>\n",
       "      <th>22</th>\n",
       "      <td>00464ff65.jpg</td>\n",
       "      <td>new_whale</td>\n",
       "    </tr>\n",
       "    <tr>\n",
       "      <th>23</th>\n",
       "      <td>004775679.jpg</td>\n",
       "      <td>not_new_whale</td>\n",
       "    </tr>\n",
       "    <tr>\n",
       "      <th>24</th>\n",
       "      <td>004ae9e26.jpg</td>\n",
       "      <td>new_whale</td>\n",
       "    </tr>\n",
       "    <tr>\n",
       "      <th>25</th>\n",
       "      <td>004c0f43b.jpg</td>\n",
       "      <td>new_whale</td>\n",
       "    </tr>\n",
       "    <tr>\n",
       "      <th>26</th>\n",
       "      <td>004e8ad5b.jpg</td>\n",
       "      <td>not_new_whale</td>\n",
       "    </tr>\n",
       "    <tr>\n",
       "      <th>27</th>\n",
       "      <td>004f87702.jpg</td>\n",
       "      <td>not_new_whale</td>\n",
       "    </tr>\n",
       "    <tr>\n",
       "      <th>28</th>\n",
       "      <td>0050ef29d.jpg</td>\n",
       "      <td>not_new_whale</td>\n",
       "    </tr>\n",
       "    <tr>\n",
       "      <th>29</th>\n",
       "      <td>00514c876.jpg</td>\n",
       "      <td>not_new_whale</td>\n",
       "    </tr>\n",
       "    <tr>\n",
       "      <th>30</th>\n",
       "      <td>0052ce2f5.jpg</td>\n",
       "      <td>not_new_whale</td>\n",
       "    </tr>\n",
       "    <tr>\n",
       "      <th>31</th>\n",
       "      <td>00537ec91.jpg</td>\n",
       "      <td>not_new_whale</td>\n",
       "    </tr>\n",
       "    <tr>\n",
       "      <th>32</th>\n",
       "      <td>00570db6b.jpg</td>\n",
       "      <td>not_new_whale</td>\n",
       "    </tr>\n",
       "    <tr>\n",
       "      <th>33</th>\n",
       "      <td>005ce3100.jpg</td>\n",
       "      <td>new_whale</td>\n",
       "    </tr>\n",
       "    <tr>\n",
       "      <th>34</th>\n",
       "      <td>00600ce17.jpg</td>\n",
       "      <td>new_whale</td>\n",
       "    </tr>\n",
       "    <tr>\n",
       "      <th>35</th>\n",
       "      <td>006017ddf.jpg</td>\n",
       "      <td>not_new_whale</td>\n",
       "    </tr>\n",
       "    <tr>\n",
       "      <th>36</th>\n",
       "      <td>0060f764a.jpg</td>\n",
       "      <td>not_new_whale</td>\n",
       "    </tr>\n",
       "    <tr>\n",
       "      <th>37</th>\n",
       "      <td>006500b3d.jpg</td>\n",
       "      <td>not_new_whale</td>\n",
       "    </tr>\n",
       "    <tr>\n",
       "      <th>38</th>\n",
       "      <td>006506edf.jpg</td>\n",
       "      <td>new_whale</td>\n",
       "    </tr>\n",
       "    <tr>\n",
       "      <th>39</th>\n",
       "      <td>0067b3a20.jpg</td>\n",
       "      <td>not_new_whale</td>\n",
       "    </tr>\n",
       "  </tbody>\n",
       "</table>\n",
       "</div>"
      ],
      "text/plain": [
       "            Image             Id\n",
       "0   0000e88ab.jpg  not_new_whale\n",
       "1   0001f9222.jpg  not_new_whale\n",
       "2   00029d126.jpg  not_new_whale\n",
       "3   00050a15a.jpg      new_whale\n",
       "4   0005c1ef8.jpg      new_whale\n",
       "5   0006e997e.jpg      new_whale\n",
       "6   000a6daec.jpg  not_new_whale\n",
       "7   000f0f2bf.jpg      new_whale\n",
       "8   0016b897a.jpg  not_new_whale\n",
       "9   001c1ac5f.jpg  not_new_whale\n",
       "10  001cae55b.jpg  not_new_whale\n",
       "11  001d7450c.jpg      new_whale\n",
       "12  00200e115.jpg      new_whale\n",
       "13  00245a598.jpg      new_whale\n",
       "14  002b4615d.jpg      new_whale\n",
       "15  002f99f01.jpg      new_whale\n",
       "16  00355ff28.jpg  not_new_whale\n",
       "17  00357e37a.jpg  not_new_whale\n",
       "18  003795857.jpg      new_whale\n",
       "19  0041880bf.jpg      new_whale\n",
       "20  0043da555.jpg      new_whale\n",
       "21  00442c882.jpg  not_new_whale\n",
       "22  00464ff65.jpg      new_whale\n",
       "23  004775679.jpg  not_new_whale\n",
       "24  004ae9e26.jpg      new_whale\n",
       "25  004c0f43b.jpg      new_whale\n",
       "26  004e8ad5b.jpg  not_new_whale\n",
       "27  004f87702.jpg  not_new_whale\n",
       "28  0050ef29d.jpg  not_new_whale\n",
       "29  00514c876.jpg  not_new_whale\n",
       "30  0052ce2f5.jpg  not_new_whale\n",
       "31  00537ec91.jpg  not_new_whale\n",
       "32  00570db6b.jpg  not_new_whale\n",
       "33  005ce3100.jpg      new_whale\n",
       "34  00600ce17.jpg      new_whale\n",
       "35  006017ddf.jpg  not_new_whale\n",
       "36  0060f764a.jpg  not_new_whale\n",
       "37  006500b3d.jpg  not_new_whale\n",
       "38  006506edf.jpg      new_whale\n",
       "39  0067b3a20.jpg  not_new_whale"
      ]
     },
     "execution_count": 21,
     "metadata": {},
     "output_type": "execute_result"
    }
   ],
   "source": [
    "train_df_two_classes.head(40)"
   ]
  },
  {
   "cell_type": "code",
   "execution_count": 22,
   "metadata": {},
   "outputs": [
    {
     "data": {
      "text/plain": [
       "'\\nimage_size = 128\\ndataset = load_data.HumpbackWhalesDataset(\\n    train_df_two_classes,\\n    #train_df,\\n    #transform=load_data.transforms.ToTensor()\\n    #transform=ToTensor()\\n    transform=transforms.Compose(\\n        [\\n            #Rescale(int(image_size*1.25)),\\n            Rescale(int(image_size)),\\n            #RandomCrop(image_size),\\n            UnifyRescale(int(image_size)),\\n            ToTensor()\\n        ]\\n    )\\n)\\n'"
      ]
     },
     "execution_count": 22,
     "metadata": {},
     "output_type": "execute_result"
    }
   ],
   "source": [
    "'''\n",
    "image_size = 128\n",
    "dataset = load_data.HumpbackWhalesDataset(\n",
    "    train_df_two_classes,\n",
    "    #train_df,\n",
    "    #transform=load_data.transforms.ToTensor()\n",
    "    #transform=ToTensor()\n",
    "    transform=transforms.Compose(\n",
    "        [\n",
    "            #Rescale(int(image_size*1.25)),\n",
    "            Rescale(int(image_size)),\n",
    "            #RandomCrop(image_size),\n",
    "            UnifyRescale(int(image_size)),\n",
    "            ToTensor()\n",
    "        ]\n",
    "    )\n",
    ")\n",
    "'''"
   ]
  },
  {
   "cell_type": "code",
   "execution_count": 23,
   "metadata": {},
   "outputs": [],
   "source": [
    "#image_size = 128\n",
    "#image_size = 100\n",
    "dataset = load_data.HumpbackWhalesDataset(\n",
    "    train_df_two_classes,\n",
    "    #train_df,\n",
    "    #transform=load_data.transforms.ToTensor()\n",
    "    #transform=ToTensor()\n",
    "    transform=transforms.Compose(\n",
    "        [\n",
    "            transforms.Resize((IMAGE_W, IMAGE_H)),\n",
    "            transforms.RandomHorizontalFlip(),\n",
    "            transforms.ToTensor(),\n",
    "            transforms.Normalize(\n",
    "                mean=[0.485, 0.456, 0.406],\n",
    "                std=[0.229, 0.224, 0.225]\n",
    "            )\n",
    "        ]\n",
    "    )\n",
    ")"
   ]
  },
  {
   "cell_type": "code",
   "execution_count": 24,
   "metadata": {},
   "outputs": [
    {
     "name": "stdout",
     "output_type": "stream",
     "text": [
      "dataset_size:  25361\n",
      "validation_subset_size:  10144\n"
     ]
    }
   ],
   "source": [
    "dataset_loaders, dataset_sizes = prepare_loaders(dataset)"
   ]
  },
  {
   "cell_type": "code",
   "execution_count": 25,
   "metadata": {},
   "outputs": [],
   "source": [
    "train_loader = dataset_loaders['train']\n",
    "validation_loader = dataset_loaders['validation']\n",
    "train_dataset_size = dataset_sizes['train']\n",
    "validation_dataset_size = dataset_sizes['validation']"
   ]
  },
  {
   "cell_type": "code",
   "execution_count": 26,
   "metadata": {},
   "outputs": [
    {
     "name": "stdout",
     "output_type": "stream",
     "text": [
      "15217\n",
      "10144\n"
     ]
    }
   ],
   "source": [
    "print(train_dataset_size)\n",
    "print(validation_dataset_size)"
   ]
  },
  {
   "cell_type": "code",
   "execution_count": 27,
   "metadata": {},
   "outputs": [
    {
     "name": "stdout",
     "output_type": "stream",
     "text": [
      "<torch.utils.data.dataloader.DataLoader object at 0x7f9b505d4518>\n"
     ]
    }
   ],
   "source": [
    "print(train_loader)"
   ]
  },
  {
   "cell_type": "code",
   "execution_count": 28,
   "metadata": {},
   "outputs": [],
   "source": [
    "train_iter = iter(train_loader)"
   ]
  },
  {
   "cell_type": "code",
   "execution_count": 29,
   "metadata": {},
   "outputs": [
    {
     "name": "stdout",
     "output_type": "stream",
     "text": [
      "<class 'torch.utils.data.dataloader._DataLoaderIter'>\n"
     ]
    }
   ],
   "source": [
    "print(type(train_iter))"
   ]
  },
  {
   "cell_type": "code",
   "execution_count": 30,
   "metadata": {},
   "outputs": [],
   "source": [
    "#images, labels = train_iter.next()\n",
    "#sample = train_iter.next()\n",
    "#print(sample)"
   ]
  },
  {
   "cell_type": "code",
   "execution_count": 31,
   "metadata": {},
   "outputs": [
    {
     "data": {
      "text/plain": [
       "\"\\nfor i_batch, sample_batched in enumerate(train_loader):\\n    print(i_batch, sample_batched['image'].size(),\\n          sample_batched['label'])\\n    # observe 4th batch and stop.\\n    if i_batch == 0:\\n        plt.figure(figsize=(24, 24))\\n        show_whale_batch(sample_batched)\\n        plt.axis('off')\\n        #plt.ioff()\\n        plt.show()\\n        break\\n\""
      ]
     },
     "execution_count": 31,
     "metadata": {},
     "output_type": "execute_result"
    }
   ],
   "source": [
    "'''\n",
    "for i_batch, sample_batched in enumerate(train_loader):\n",
    "    print(i_batch, sample_batched['image'].size(),\n",
    "          sample_batched['label'])\n",
    "    # observe 4th batch and stop.\n",
    "    if i_batch == 0:\n",
    "        plt.figure(figsize=(24, 24))\n",
    "        show_whale_batch(sample_batched)\n",
    "        plt.axis('off')\n",
    "        #plt.ioff()\n",
    "        plt.show()\n",
    "        break\n",
    "'''"
   ]
  },
  {
   "cell_type": "code",
   "execution_count": 32,
   "metadata": {},
   "outputs": [],
   "source": [
    "#plt.imshow?"
   ]
  },
  {
   "cell_type": "code",
   "execution_count": 33,
   "metadata": {},
   "outputs": [
    {
     "data": {
      "text/plain": [
       "{'not_new_whale': 0, 'new_whale': 1}"
      ]
     },
     "execution_count": 33,
     "metadata": {},
     "output_type": "execute_result"
    }
   ],
   "source": [
    "dataset.encoding"
   ]
  },
  {
   "cell_type": "code",
   "execution_count": 34,
   "metadata": {},
   "outputs": [],
   "source": [
    "#hwi_conv_neural_net = HWI_ConvNeuralNet()\n",
    "#hwi_conv_neural_net.apply(init_weights)"
   ]
  },
  {
   "cell_type": "code",
   "execution_count": 35,
   "metadata": {},
   "outputs": [],
   "source": [
    "device = torch.device(\"cuda:0\" if torch.cuda.is_available() else \"cpu\")"
   ]
  },
  {
   "cell_type": "code",
   "execution_count": 36,
   "metadata": {},
   "outputs": [
    {
     "name": "stdout",
     "output_type": "stream",
     "text": [
      "cuda:0\n"
     ]
    }
   ],
   "source": [
    "print(device)"
   ]
  },
  {
   "cell_type": "code",
   "execution_count": 37,
   "metadata": {},
   "outputs": [],
   "source": [
    "#hwi_conv_neural_net.to(device)"
   ]
  },
  {
   "cell_type": "code",
   "execution_count": 38,
   "metadata": {},
   "outputs": [
    {
     "data": {
      "text/plain": [
       "'\\nlinear_model = nn.Sequential(\\n    nn.Linear(2048, 64),\\n    nn.Linear(64, 1),\\n    nn.Sigmoid()\\n)\\n'"
      ]
     },
     "execution_count": 38,
     "metadata": {},
     "output_type": "execute_result"
    }
   ],
   "source": [
    "#linear_model = nn.Linear(IMAGE_W * IMAGE_H, 1)\n",
    "#linear_model = nn.Linear(2048, 64)\n",
    "#linear_model = nn.Linear(64, 2048)\n",
    "'''\n",
    "linear_model = nn.Sequential(\n",
    "    nn.Linear(64, 2048),\n",
    "    nn.Linear(BATCH_SIZE, 1),\n",
    "    nn.Sigmoid()\n",
    ")\n",
    "'''\n",
    "\n",
    "'''\n",
    "linear_model = nn.Sequential(\n",
    "    nn.Linear(2048, 64),\n",
    "    nn.Linear(64, 1),\n",
    "    nn.Sigmoid()\n",
    ")\n",
    "'''"
   ]
  },
  {
   "cell_type": "code",
   "execution_count": 39,
   "metadata": {},
   "outputs": [],
   "source": [
    "class LogitsticRegression(nn.Module):\n",
    "    \n",
    "    def __init__(self, in_features_size, first_hl_features_size, second_hl_features_size, out_features_size):\n",
    "        super(LogitsticRegression, self).__init__()\n",
    "        #self.fc = nn.Linear(in_features=in_features_size, out_features=out_features_size, bias=True)\n",
    "        self.fc1 = nn.Linear(in_features=in_features_size, out_features=first_hl_features_size, bias=True)\n",
    "        self.fc2 = nn.Linear(in_features=first_hl_features_size, out_features=second_hl_features_size, bias=True)\n",
    "        self.fc3 = nn.Linear(in_features=second_hl_features_size, out_features=out_features_size, bias=True)\n",
    "        self.sigmoid= nn.Sigmoid()\n",
    "    \n",
    "    def forward(self, x):\n",
    "        #print(\"forward, x.size(): \", x.size())\n",
    "        #print(\"forward, type(x): \", type(x))\n",
    "        x = x.view(-1, IMAGE_W * IMAGE_H)\n",
    "        #print(\"forward, x.size() after view: \", x.size())\n",
    "        #x= self.fc(x)\n",
    "        x= self.fc1(x)\n",
    "        #print(\"forward after fc, x.size(): \", x.size())\n",
    "        x= self.fc2(x)\n",
    "        x= self.fc3(x)\n",
    "        x = self.sigmoid(x)\n",
    "        #print(\"forward after sigmoid, x.size(): \", x.size())\n",
    "        return x"
   ]
  },
  {
   "cell_type": "code",
   "execution_count": 40,
   "metadata": {},
   "outputs": [],
   "source": [
    "#linear_model.to(device)"
   ]
  },
  {
   "cell_type": "code",
   "execution_count": 41,
   "metadata": {},
   "outputs": [],
   "source": [
    "#logistic_regression_model = LogitsticRegression(IMAGE_W * IMAGE_H, 1)\n",
    "logistic_regression_model = LogitsticRegression(IMAGE_W * IMAGE_H, 2 * IMAGE_W * IMAGE_H, 2 * IMAGE_W * IMAGE_H, 1)\n",
    "#logistic_regression_model = LogitsticRegression(BATCH_SIZE, IMAGE_W * IMAGE_H)\n",
    "#logistic_regression_model = LogitsticRegression(IMAGE_W * IMAGE_H, BATCH_SIZE)\n",
    "#logistic_regression_model = LogitsticRegression(64, 2048)"
   ]
  },
  {
   "cell_type": "code",
   "execution_count": 42,
   "metadata": {},
   "outputs": [
    {
     "data": {
      "text/plain": [
       "LogitsticRegression(\n",
       "  (fc): Linear(in_features=65536, out_features=1, bias=True)\n",
       "  (sigmoid): Sigmoid()\n",
       ")"
      ]
     },
     "execution_count": 42,
     "metadata": {},
     "output_type": "execute_result"
    }
   ],
   "source": [
    "logistic_regression_model.to(device)"
   ]
  },
  {
   "cell_type": "code",
   "execution_count": 43,
   "metadata": {},
   "outputs": [],
   "source": [
    "#criterion = nn.BCEWithLogitsLoss(reduction='sum')\n",
    "#criterion = nn.BCEWithLogitsLoss()\n",
    "#criterion = nn.BCELoss()\n",
    "#optimizer = optim.Adam(hwi_conv_neural_net.parameters(), lr=0.001, betas=(0.9, 0.99))"
   ]
  },
  {
   "cell_type": "code",
   "execution_count": 44,
   "metadata": {},
   "outputs": [],
   "source": [
    "num_of_epoch = 12"
   ]
  },
  {
   "cell_type": "code",
   "execution_count": 45,
   "metadata": {},
   "outputs": [],
   "source": [
    "learning_rate = 0.001"
   ]
  },
  {
   "cell_type": "code",
   "execution_count": 46,
   "metadata": {},
   "outputs": [],
   "source": [
    "#criterion = nn.CrossEntropyLoss()\n",
    "#optimizer = optim.SGD(resnet18.parameters(), lr=learning_rate, momentum=0.9)"
   ]
  },
  {
   "cell_type": "code",
   "execution_count": 47,
   "metadata": {},
   "outputs": [],
   "source": [
    "criterion = nn.BCELoss()\n",
    "#criterion = nn.BCEWithLogitsLoss()\n",
    "#optimizer = optim.Adam(resnet18.parameters(), lr=0.001, betas=(0.9, 0.99))\n",
    "#optimizer = optim.Adam(linear_model.parameters(), lr=0.001, betas=(0.9, 0.99))\n",
    "optimizer = optim.Adam(logistic_regression_model.parameters(), lr=0.001, betas=(0.9, 0.99))"
   ]
  },
  {
   "cell_type": "code",
   "execution_count": 48,
   "metadata": {
    "scrolled": false
   },
   "outputs": [
    {
     "name": "stdout",
     "output_type": "stream",
     "text": [
      "Epoch 1: train loss 12.00538928657447, train accuracy 0.4060590129460472, validation loss 11.716225933953414, validation accuracy 0.39353312302839116\n",
      "Epoch 2: train loss 7.1345443630325045, train accuracy 0.3832555694289282, validation loss 2.306476453125289, validation accuracy 0.37884463722397477\n",
      "Epoch 3: train loss 2.065993232373583, train accuracy 0.3787868830912795, validation loss 2.248888679107281, validation accuracy 0.37953470031545744\n",
      "Epoch 4: train loss 1.3370572205652755, train accuracy 0.3789183150423868, validation loss 1.1735196354261332, validation accuracy 0.3792389589905363\n",
      "Epoch 5: train loss 1.2179505821439105, train accuracy 0.3791154629690478, validation loss 2.210888167661071, validation accuracy 0.3792389589905363\n",
      "Epoch 6: train loss 1.1965524037094102, train accuracy 0.3782611552868502, validation loss 0.9938615082942349, validation accuracy 0.3791403785488959\n",
      "Epoch 7: train loss 1.3011485098100346, train accuracy 0.3781297233357429, validation loss 1.438350683507107, validation accuracy 0.3790417981072555\n",
      "Epoch 8: train loss 1.0923977977398966, train accuracy 0.3779982913846356, validation loss 0.9664000675129214, validation accuracy 0.3792389589905363\n",
      "Epoch 9: train loss 1.139413828980463, train accuracy 0.37852401918906486, validation loss 1.4423064102509797, validation accuracy 0.37953470031545744\n",
      "Epoch 10: train loss 1.119393396762994, train accuracy 0.37852401918906486, validation loss 1.393506530707567, validation accuracy 0.3792389589905363\n",
      "Epoch 11: train loss 1.2328936610748618, train accuracy 0.3784583032135112, validation loss 0.9417998459812971, validation accuracy 0.3791403785488959\n",
      "Epoch 12: train loss 1.1949657132593148, train accuracy 0.3784583032135112, validation loss 1.570422192101223, validation accuracy 0.3796332807570978\n",
      "Finished Training\n",
      "Training complete in 64m 40s\n",
      "Best model accuracy:  0.39353312302839116\n"
     ]
    }
   ],
   "source": [
    "train_rezult_metrics = train_model(\n",
    "    num_of_epoch,\n",
    "    #hwi_conv_neural_net,\n",
    "    #resnet18,\n",
    "    #linear_model,\n",
    "    logistic_regression_model,\n",
    "    dataset_loaders,\n",
    "    dataset_sizes,\n",
    "    criterion,\n",
    "    optimizer\n",
    ")"
   ]
  },
  {
   "cell_type": "code",
   "execution_count": 49,
   "metadata": {},
   "outputs": [],
   "source": [
    "train_losses, validation_losses, train_accuracies, validation_accuracies = train_rezult_metrics"
   ]
  },
  {
   "cell_type": "code",
   "execution_count": 50,
   "metadata": {},
   "outputs": [
    {
     "data": {
      "image/png": "[encoded data removed]",
      "text/plain": [
       "<Figure size 432x288 with 1 Axes>"
      ]
     },
     "metadata": {
      "needs_background": "light"
     },
     "output_type": "display_data"
    },
    {
     "data": {
      "image/png": "[encoded data removed]",
      "text/plain": [
       "<Figure size 432x288 with 1 Axes>"
      ]
     },
     "metadata": {
      "needs_background": "light"
     },
     "output_type": "display_data"
    }
   ],
   "source": [
    "plt.plot(np.arange(len(train_losses)), train_losses, label='train')\n",
    "plt.plot(np.arange(len(validation_losses)), validation_losses, label='validation')\n",
    "plt.legend()\n",
    "plt.title(\"loss by epoch\")\n",
    "plt.show()\n",
    "\n",
    "plt.plot(np.arange(len(train_accuracies)), train_accuracies, label='train')\n",
    "plt.plot(np.arange(len(validation_accuracies)), validation_accuracies, label='validation')\n",
    "plt.legend()\n",
    "plt.title(\"accuracy by epoch\")\n",
    "plt.show()"
   ]
  },
  {
   "cell_type": "code",
   "execution_count": 51,
   "metadata": {},
   "outputs": [
    {
     "data": {
      "text/plain": [
       "([12.00538928657447,\n",
       "  7.1345443630325045,\n",
       "  2.065993232373583,\n",
       "  1.3370572205652755,\n",
       "  1.2179505821439105,\n",
       "  1.1965524037094102,\n",
       "  1.3011485098100346,\n",
       "  1.0923977977398966,\n",
       "  1.139413828980463,\n",
       "  1.119393396762994,\n",
       "  1.2328936610748618,\n",
       "  1.1949657132593148],\n",
       " [11.716225933953414,\n",
       "  2.306476453125289,\n",
       "  2.248888679107281,\n",
       "  1.1735196354261332,\n",
       "  2.210888167661071,\n",
       "  0.9938615082942349,\n",
       "  1.438350683507107,\n",
       "  0.9664000675129214,\n",
       "  1.4423064102509797,\n",
       "  1.393506530707567,\n",
       "  0.9417998459812971,\n",
       "  1.570422192101223],\n",
       " [0.4060590129460472,\n",
       "  0.3832555694289282,\n",
       "  0.3787868830912795,\n",
       "  0.3789183150423868,\n",
       "  0.3791154629690478,\n",
       "  0.3782611552868502,\n",
       "  0.3781297233357429,\n",
       "  0.3779982913846356,\n",
       "  0.37852401918906486,\n",
       "  0.37852401918906486,\n",
       "  0.3784583032135112,\n",
       "  0.3784583032135112],\n",
       " [0.39353312302839116,\n",
       "  0.37884463722397477,\n",
       "  0.37953470031545744,\n",
       "  0.3792389589905363,\n",
       "  0.3792389589905363,\n",
       "  0.3791403785488959,\n",
       "  0.3790417981072555,\n",
       "  0.3792389589905363,\n",
       "  0.37953470031545744,\n",
       "  0.3792389589905363,\n",
       "  0.3791403785488959,\n",
       "  0.3796332807570978])"
      ]
     },
     "execution_count": 51,
     "metadata": {},
     "output_type": "execute_result"
    }
   ],
   "source": [
    "train_rezult_metrics"
   ]
  },
  {
   "cell_type": "code",
   "execution_count": null,
   "metadata": {},
   "outputs": [],
   "source": []
  }
 ],
 "metadata": {
  "kernelspec": {
   "display_name": "Python 3",
   "language": "python",
   "name": "python3"
  },
  "language_info": {
   "codemirror_mode": {
    "name": "ipython",
    "version": 3
   },
   "file_extension": ".py",
   "mimetype": "text/x-python",
   "name": "python",
   "nbconvert_exporter": "python",
   "pygments_lexer": "ipython3",
   "version": "3.6.6"
  }
 },
 "nbformat": 4,
 "nbformat_minor": 2
}
