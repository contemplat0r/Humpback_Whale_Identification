{
 "cells": [
  {
   "cell_type": "code",
   "execution_count": 1,
   "metadata": {},
   "outputs": [],
   "source": [
    "import os\n",
    "import importlib\n",
    "import time\n",
    "\n",
    "import numpy as np\n",
    "import pandas as pd\n",
    "\n",
    "import matplotlib.image as mpimg\n",
    "import matplotlib.pyplot as plt\n",
    "import seaborn as sns\n",
    "import sklearn\n",
    "import skimage\n",
    "from skimage import transform as skimg_transform\n",
    "#from skimage import io as img_io\n",
    "from PIL import Image\n",
    "\n",
    "import torch\n",
    "import torch.nn as nn\n",
    "import torch.nn.functional as F\n",
    "import torch.optim as optim\n",
    "from torchvision import transforms, utils\n",
    "from torch.utils import data\n",
    "from torch.utils.data.sampler import SubsetRandomSampler\n",
    "\n",
    "import load_data\n",
    "import model\n",
    "import warnings"
   ]
  },
  {
   "cell_type": "code",
   "execution_count": 2,
   "metadata": {},
   "outputs": [
    {
     "data": {
      "text/plain": [
       "<module 'model' from '/home/uldo/work/kaggle/competitions/Humpback_Whale_Identification/code/model.py'>"
      ]
     },
     "execution_count": 2,
     "metadata": {},
     "output_type": "execute_result"
    }
   ],
   "source": [
    "plt.style.use('Solarize_Light2')\n",
    "warnings.filterwarnings('ignore')\n",
    "%matplotlib inline\n",
    "importlib.reload(load_data)\n",
    "importlib.reload(model)"
   ]
  },
  {
   "cell_type": "code",
   "execution_count": 3,
   "metadata": {},
   "outputs": [],
   "source": [
    "#BATCH_SIZE = 100\n",
    "#BATCH_SIZE = 32\n",
    "BATCH_SIZE = 200\n",
    "IMAGE_W = 100\n",
    "IMAGE_H = 100"
   ]
  },
  {
   "cell_type": "code",
   "execution_count": 4,
   "metadata": {},
   "outputs": [
    {
     "data": {
      "text/plain": [
       "'\\nclass HWI_ConvNeuralNet(nn.Module):\\n    \\n    def __init__(self):\\n        super(HWI_ConvNeuralNet, self).__init__()\\n        self.conv1 = nn.Sequential(\\n            nn.Conv2d(3, 6, 5, 1, 2),\\n            nn.ReLU(),\\n            nn.MaxPool2d(kernel_size=2)\\n        )\\n        self.conv2 = nn.Sequential(\\n            nn.Conv2d(6, 12, 5, 1, 2),\\n            nn.ReLU(),\\n            nn.MaxPool2d(kernel_size=2)\\n        )\\n        self.drop_out = nn.Dropout()\\n        self.out1 = nn.Linear(int(12 * IMAGE_W/4 * IMAGE_H/4), 900)\\n        self.out2 = nn.Linear(900, 1)\\n        \\n    def forward(self, x):\\n        x = self.conv1(x)\\n        x = self.conv2(x)\\n        x = x.view(x.size(0), -1)\\n        output = self.drop_out(x)\\n        output = self.out1(x)\\n        output = self.out2(output)\\n        #return output, x\\n        return output[:, 0]\\n        #return F.log_softmax(output, dim=1)\\n'"
      ]
     },
     "execution_count": 4,
     "metadata": {},
     "output_type": "execute_result"
    }
   ],
   "source": [
    "'''\n",
    "class HWI_ConvNeuralNet(nn.Module):\n",
    "    \n",
    "    def __init__(self):\n",
    "        super(HWI_ConvNeuralNet, self).__init__()\n",
    "        self.conv1 = nn.Sequential(\n",
    "            nn.Conv2d(3, 6, 5, 1, 2),\n",
    "            nn.ReLU(),\n",
    "            nn.MaxPool2d(kernel_size=2)\n",
    "        )\n",
    "        self.conv2 = nn.Sequential(\n",
    "            nn.Conv2d(6, 12, 5, 1, 2),\n",
    "            nn.ReLU(),\n",
    "            nn.MaxPool2d(kernel_size=2)\n",
    "        )\n",
    "        self.drop_out = nn.Dropout()\n",
    "        self.out1 = nn.Linear(int(12 * IMAGE_W/4 * IMAGE_H/4), 900)\n",
    "        self.out2 = nn.Linear(900, 1)\n",
    "        \n",
    "    def forward(self, x):\n",
    "        x = self.conv1(x)\n",
    "        x = self.conv2(x)\n",
    "        x = x.view(x.size(0), -1)\n",
    "        output = self.drop_out(x)\n",
    "        output = self.out1(x)\n",
    "        output = self.out2(output)\n",
    "        #return output, x\n",
    "        return output[:, 0]\n",
    "        #return F.log_softmax(output, dim=1)\n",
    "'''"
   ]
  },
  {
   "cell_type": "code",
   "execution_count": 5,
   "metadata": {},
   "outputs": [],
   "source": [
    "class HWI_ConvNeuralNet(nn.Module):\n",
    "    \n",
    "    def __init__(self):\n",
    "        super(HWI_ConvNeuralNet, self).__init__()\n",
    "        \n",
    "        self.conv1 = nn.Conv2d(3, 32, 7, padding=1)\n",
    "        self.conv2_bn = nn.BatchNorm2d(32)\n",
    "        self.pool = nn.MaxPool2d(2, 2)\n",
    "        \n",
    "        self.conv2 = nn.Conv2d(32, 64, 3, padding=1)        \n",
    "        self.pool2 = nn.AvgPool2d(3, 3)\n",
    "        \n",
    "        self.fc1 = nn.Linear(64 * 4 * 4 * 16, 1024)\n",
    "        #self.fc1 = nn.Linear(64, 1024)\n",
    "        #self.fc2 = nn.Linear(1024, 5004)\n",
    "        self.fc2 = nn.Linear(1024, 1)\n",
    "        \n",
    "        self.dropout = nn.Dropout(0.5)\n",
    "        self.sigmoid = nn.Sigmoid()\n",
    "\n",
    "    def forward(self, x):\n",
    "        #print(\"forward, input x.size(): \", x.size())\n",
    "        x = self.pool(F.relu(self.conv2_bn(self.conv1(x))))\n",
    "        #print(\"forward, x.size() after self.pool(F.relu(self.conv2_bn(self.conv1(x)))): \", x.size())\n",
    "        x = self.pool2(F.relu(self.conv2(x)))\n",
    "        #print(\"forward, x.size() after self.pool2(F.relu(self.conv2(x))): \", x.size())\n",
    "        x = x.view(-1, 64 * 4 * 4 * 16)\n",
    "        #print(\"forward, x.size() after x.view(-1, 64 * 4 * 4 * 16): \", x.size())\n",
    "        x = F.relu(self.fc1(x))\n",
    "        #print(\"forward, x.size() after F.relu(self.fc1(x)): \", x.size())\n",
    "        x = self.dropout(x)\n",
    "        #print(\"forward, x.size() after self.dropout(x): \", x.size())\n",
    "        x = self.fc2(x)\n",
    "        #print(\"forward, x.size() after self.fc2(x): \", x.size())\n",
    "        #x = self.fc3(x)\n",
    "        x = self.sigmoid(x)\n",
    "        #print(\"forward, x.size() after self.sigmoid(x): \", x.size())\n",
    "        return x       "
   ]
  },
  {
   "cell_type": "code",
   "execution_count": 6,
   "metadata": {},
   "outputs": [],
   "source": [
    "class Rescale(object):\n",
    "    \"\"\"Rescale the image in a sample to a given size.\n",
    "\n",
    "    Args:\n",
    "        output_size (tuple or int): Desired output size. If tuple, output is\n",
    "            matched to output_size. If int, smaller of image edges is matched\n",
    "            to output_size keeping aspect ratio the same.\n",
    "    \"\"\"\n",
    "\n",
    "    def __init__(self, output_size):\n",
    "        assert isinstance(output_size, (int, tuple))\n",
    "        self.output_size = output_size\n",
    "\n",
    "    def __call__(self, sample):\n",
    "        image, label = sample['image'], sample['label']\n",
    "\n",
    "        orig_height, orig_width = image.shape[:2]\n",
    "        if isinstance(self.output_size, int):\n",
    "            if orig_height > orig_width:\n",
    "                new_height, new_width = self.output_size * orig_height / orig_width, self.output_size\n",
    "            else:\n",
    "                new_height, new_width = self.output_size, self.output_size * orig_width / orig_height\n",
    "        else:\n",
    "            new_height, new_width = self.output_size\n",
    "\n",
    "        new_height, new_width = int(new_height), int(new_width)\n",
    "\n",
    "        img = skimg_transform.resize(image, (new_height, new_width))\n",
    "\n",
    "        return {'image': img, 'label': label}"
   ]
  },
  {
   "cell_type": "code",
   "execution_count": 7,
   "metadata": {},
   "outputs": [],
   "source": [
    "class UnifyRescale(object):\n",
    "    \n",
    "    def __init__(self, output_size=128):\n",
    "        assert isinstance(output_size, int)\n",
    "        self.output_size = output_size\n",
    "        \n",
    "    def __call__(self, sample):\n",
    "        image, label = sample['image'], sample['label']\n",
    "\n",
    "        img = skimg_transform.resize(image, (self.output_size, self.output_size))\n",
    "\n",
    "        return {'image': img, 'label': label}"
   ]
  },
  {
   "cell_type": "code",
   "execution_count": 8,
   "metadata": {},
   "outputs": [],
   "source": [
    "class RandomCrop(object):\n",
    "    \"\"\"Crop randomly the image in a sample.\n",
    "\n",
    "    Args:\n",
    "        output_size (tuple or int): Desired output size. If int, square crop\n",
    "            is made.\n",
    "    \"\"\"\n",
    "\n",
    "    def __init__(self, output_size):\n",
    "        assert isinstance(output_size, (int, tuple))\n",
    "        if isinstance(output_size, int):\n",
    "            self.output_size = (output_size, output_size)\n",
    "        else:\n",
    "            assert len(output_size) == 2\n",
    "            self.output_size = output_size\n",
    "\n",
    "    def __call__(self, sample):\n",
    "        image, label = sample['image'], sample['label']\n",
    "\n",
    "        orig_height, orig_width = image.shape[:2]\n",
    "        new_height, new_width = self.output_size\n",
    "\n",
    "        top = np.random.randint(0, orig_height - new_height)\n",
    "        left = np.random.randint(0, orig_width - new_width)\n",
    "\n",
    "        image = image[top: top + new_height, left: left + new_width]\n",
    "\n",
    "        return {'image': image, 'label': label}"
   ]
  },
  {
   "cell_type": "code",
   "execution_count": 9,
   "metadata": {},
   "outputs": [],
   "source": [
    "class ToTensor(object):\n",
    "    \n",
    "    \"\"\"Convert ndarrays in sample to Tensors.\"\"\"\n",
    "    def __init__(self, image_size=128):\n",
    "        self.image_size = image_size\n",
    "\n",
    "    def __call__(self, sample):\n",
    "        image, label = sample['image'], sample['label']\n",
    "\n",
    "        # swap color axis because\n",
    "        # numpy image: H x W x C\n",
    "        # torch image: C X H X W\n",
    "        \n",
    "        \"\"\" The original code didn't expect gray scale images \"\"\"\n",
    "        \n",
    "        gray_scale_image = torch.zeros(\n",
    "            [self.image_size, self.image_size]\n",
    "        ).shape == image.shape\n",
    "        if gray_scale_image:\n",
    "            image = np.stack((image,) * 3, axis=-1)\n",
    "        \n",
    "        image = image.transpose((2, 0, 1))\n",
    "        return {'image': torch.from_numpy(image), 'label': torch.tensor(label, dtype=torch.uint8)}"
   ]
  },
  {
   "cell_type": "code",
   "execution_count": 10,
   "metadata": {},
   "outputs": [],
   "source": [
    "def show_whale_batch(sample_batched):\n",
    "    \"\"\"Show whales for a batch of samples.\"\"\"\n",
    "    images_batch = sample_batched['image']\n",
    "    labels_batch = sample_batched['label']\n",
    "    batch_size = len(images_batch)\n",
    "    im_size = images_batch.size(2)\n",
    "\n",
    "    grid = utils.make_grid(images_batch)\n",
    "    plt.imshow(grid.numpy().transpose((1, 2, 0)))\n",
    "\n",
    "    for i in range(batch_size):\n",
    "        plt.title('Batch from dataloader')"
   ]
  },
  {
   "cell_type": "code",
   "execution_count": 11,
   "metadata": {},
   "outputs": [],
   "source": [
    "def init_weights(submodule):\n",
    "    if type(submodule) == nn.Linear:\n",
    "        nn.init.xavier_uniform_(submodule.weight)\n",
    "        submodule.bias.data.fill_(0.01)"
   ]
  },
  {
   "cell_type": "code",
   "execution_count": 12,
   "metadata": {},
   "outputs": [],
   "source": [
    "def prepare_loaders(dataset, valid_train_ratio=0.6):\n",
    "    dataset_size = len(dataset)\n",
    "    print(\"dataset_size: \", dataset_size)\n",
    "\n",
    "    validation_subset_size = int(dataset_size * (1 - valid_train_ratio))\n",
    "    print(\"validation_subset_size: \", validation_subset_size)\n",
    "\n",
    "    indices = list(range(dataset_size))\n",
    "    validation_indices = np.random.choice(indices, size=validation_subset_size, replace=False)\n",
    "    train_indices = list(set(indices) - set(validation_indices))\n",
    "\n",
    "    train_sampler = SubsetRandomSampler(train_indices)\n",
    "    validation_sampler = SubsetRandomSampler(validation_indices)\n",
    "    \n",
    "    dataset_sizes = {\n",
    "            'train': len(train_indices),\n",
    "            'validation': len(validation_indices)\n",
    "        }\n",
    "\n",
    "    #train_loader = data.DataLoader(dataset, batch_size=BATCH_SIZE, num_workers=1, sampler=train_sampler, pin_memory=True)\n",
    "    train_loader = data.DataLoader(dataset, batch_size=BATCH_SIZE, num_workers=1, sampler=train_sampler)\n",
    "    #validation_loader = data.DataLoader(dataset, batch_size=BATCH_SIZE, num_workers=1, sampler=validation_sampler, pin_memory=True)\n",
    "    validation_loader = data.DataLoader(dataset, batch_size=BATCH_SIZE, num_workers=1, sampler=validation_sampler)\n",
    "    loaders = {\n",
    "            'train': train_loader,\n",
    "            'validation': validation_loader\n",
    "        }\n",
    "\n",
    "    return loaders, dataset_sizes"
   ]
  },
  {
   "cell_type": "code",
   "execution_count": 13,
   "metadata": {},
   "outputs": [],
   "source": [
    "def unfold_batch(batch):\n",
    "    return batch['image'], batch['label']"
   ]
  },
  {
   "cell_type": "code",
   "execution_count": 14,
   "metadata": {},
   "outputs": [],
   "source": [
    "def one_epoch_train(model, data_loader, criterion, optimizer):\n",
    "    \n",
    "    accuracy = 0.0\n",
    "    total_loss = 0.0\n",
    "    correct_predicted_total = 0.0\n",
    "    \n",
    "    for i, data_batch in enumerate(data_loader, 0):\n",
    "        \n",
    "        inputs, labels = unfold_batch(data_batch)\n",
    "        #print(\"inputs: \", inputs)\n",
    "        #print(\"labels: \", labels)\n",
    "        inputs = inputs.to(device, dtype=torch.float)\n",
    "        labels = labels.to(device, dtype=torch.float)\n",
    "        optimizer.zero_grad()\n",
    "        \n",
    "        outputs = hwi_conv_neural_net(inputs)\n",
    "\n",
    "        #print(\"outputs.size():\\n\", outputs.size())\n",
    "        #print(\"labels.size():\\n\", labels.size())\n",
    "        #print(\"outputs:\\n\", outputs)\n",
    "        #print(\"outputs[:, 0]:\\n\", outputs[:, 0])\n",
    "        #print(\"labels:\\n\", labels)\n",
    "        loss = criterion(outputs, labels)\n",
    "        loss.backward()\n",
    "        optimizer.step()\n",
    "        \n",
    "        total_loss += loss.item() * inputs.size(0)\n",
    "        \n",
    "        predicted = outputs > 0\n",
    "        #print(\"type(predicted): \", type(predicted))\n",
    "        #print(\"predicted:\\n\", predicted)\n",
    "\n",
    "        #total += labels.size(0)\n",
    "        labels = labels.data.byte()\n",
    "        #print(\"predicted == labels:\\n\", predicted == labels)\n",
    "        #sum_of_correct_predicted = torch.sum((predicted == labels).all(1))\n",
    "        sum_of_correct_predicted = torch.sum((predicted == labels))\n",
    "        item = sum_of_correct_predicted.item()\n",
    "        correct_predicted_total += item\n",
    "        \n",
    "    accuracy = correct_predicted_total\n",
    "    \n",
    "    #epoch_train_loss = total_loss / train_dataset_size\n",
    "    #epoch_train_accuracy = correct_predicted_total / train_dataset_size\n",
    "    return (total_loss, accuracy)"
   ]
  },
  {
   "cell_type": "code",
   "execution_count": 15,
   "metadata": {},
   "outputs": [],
   "source": [
    "def validate(model, validation_loader, criterion):\n",
    "    model.eval()\n",
    "    with torch.no_grad():\n",
    "        \n",
    "        correct_predicted_total = 0.0\n",
    "        total_loss = 0.0\n",
    "        #total = 0.0\n",
    "        \n",
    "        for data_batch in validation_loader:\n",
    "            inputs, labels = unfold_batch(data_batch)\n",
    "\n",
    "            inputs = inputs.to(device, dtype=torch.float)\n",
    "            #labels_as_float = labels.to(device, dtype=torch.float)\n",
    "            #labels = labels.to(device, dtype=torch.uint8)\n",
    "            labels = labels.to(device, dtype=torch.float)\n",
    "            outputs = model(inputs)\n",
    "            \n",
    "            loss = criterion(outputs, labels)\n",
    "            #loss = criterion(outputs, labels_as_float)\n",
    "            total_loss += loss.item() * inputs.size(0)\n",
    "            \n",
    "            predicted = outputs > 0\n",
    "\n",
    "            #total += labels.size(0)\n",
    "            labels = labels.data.byte()\n",
    "            #sum_of_correct_predicted = torch.sum((predicted == labels).all(1))\n",
    "            sum_of_correct_predicted = torch.sum((predicted == labels))\n",
    "            item = sum_of_correct_predicted.item()\n",
    "\n",
    "            correct_predicted_total += item\n",
    "\n",
    "        #accuracy = correct_predicted_total / total\n",
    "        accuracy = correct_predicted_total\n",
    "        \n",
    "\n",
    "    return (total_loss, accuracy)"
   ]
  },
  {
   "cell_type": "code",
   "execution_count": 16,
   "metadata": {},
   "outputs": [],
   "source": [
    "def one_epoch_validate(model, data_loader, criterion):\n",
    "    model.eval()\n",
    "    with torch.no_grad():\n",
    "        \n",
    "        correct_predicted_total = 0.0\n",
    "        total_loss = 0.0\n",
    "        \n",
    "        for data_batch in data_loader:\n",
    "            inputs, labels = unfold_batch(data_batch)\n",
    "\n",
    "            inputs = inputs.to(device, dtype=torch.float)\n",
    "            labels = labels.to(device, dtype=torch.float)\n",
    "            outputs = model(inputs)\n",
    "            \n",
    "            loss = criterion(outputs, labels)\n",
    "            total_loss += loss.item() * inputs.size(0)\n",
    "            \n",
    "            predicted = outputs > 0\n",
    "            \n",
    "            labels = labels.data.byte()\n",
    "            sum_of_correct_predicted = torch.sum((predicted == labels))\n",
    "            item = sum_of_correct_predicted.item()\n",
    "\n",
    "            correct_predicted_total += item\n",
    "\n",
    "        accuracy = correct_predicted_total        \n",
    "\n",
    "    return (total_loss, accuracy)"
   ]
  },
  {
   "cell_type": "code",
   "execution_count": 17,
   "metadata": {},
   "outputs": [],
   "source": [
    "def one_epoch_model_process(model, loader, criterion, optimizer=None):\n",
    "    accuracy = 0.0\n",
    "    total_loss = 0.0\n",
    "\n",
    "    for data_batch in loader:\n",
    "        inputs, labels = unfold_batch(data_batch)\n",
    "        inputs = inputs.to(device, dtype=torch.float)\n",
    "        labels = labels.to(device, dtype=torch.float)\n",
    "        outputs = model(inputs)[:, 0]\n",
    "            \n",
    "        loss = criterion(outputs, labels)\n",
    "        if optimizer:\n",
    "            loss.backward()\n",
    "            optimizer.step()\n",
    "        total_loss += loss.item() * inputs.size(0)\n",
    "            \n",
    "        predicted = outputs > 0\n",
    "\n",
    "        labels = labels.data.byte()\n",
    "        #torch_sum_of_correct_predicted = torch.sum((predicted == labels).all(1))\n",
    "        torch_sum_of_correct_predicted = torch.sum((predicted == labels))\n",
    "        correct_predicted = torch_sum_of_correct_predicted.item()\n",
    "\n",
    "        accuracy += correct_predicted        \n",
    "\n",
    "    return (total_loss, accuracy)"
   ]
  },
  {
   "cell_type": "code",
   "execution_count": 18,
   "metadata": {},
   "outputs": [],
   "source": [
    "def train_model(num_of_epoch, model, dataset_loaders, dataset_sizes, criterion, optimizer):\n",
    "    torch.cuda.empty_cache()\n",
    "    since = time.time()\n",
    "    \n",
    "    train_loader = dataset_loaders['train']\n",
    "    validation_loader = dataset_loaders['validation']\n",
    "    train_dataset_size = dataset_sizes['train']\n",
    "    validation_dataset_size = dataset_sizes['validation']\n",
    "    \n",
    "    train_losses = []\n",
    "    train_accuracies = []\n",
    "    validation_losses = []\n",
    "    validation_accuracies = []\n",
    "    \n",
    "    for epoch in range(num_of_epoch):\n",
    "        \n",
    "        train_loss, train_accuracy = one_epoch_train(model, train_loader, criterion, optimizer)\n",
    "        train_losses.append(train_loss / train_dataset_size)\n",
    "        train_accuracies.append(train_accuracy / train_dataset_size)\n",
    "        \n",
    "        validation_loss, validation_accuracy = one_epoch_validate(model, validation_loader, criterion)\n",
    "        validation_losses.append(validation_loss / validation_dataset_size)\n",
    "        validation_accuracies.append(validation_accuracy / validation_dataset_size)\n",
    "        \n",
    "        print(\"Epoch {}: train loss {}, train accuracy\"\n",
    "          \" {}, validation loss {}, validation accuracy {}\".format(\n",
    "              epoch + 1,\n",
    "              train_loss / train_dataset_size,\n",
    "              train_accuracy / train_dataset_size,\n",
    "              validation_loss / validation_dataset_size,\n",
    "              validation_accuracy / validation_dataset_size\n",
    "            )\n",
    "        )\n",
    "    print(\"Finished Training\")\n",
    "    time_elapsed = time.time() - since\n",
    "    print(\n",
    "            'Training complete in {:.0f}m {:.0f}s'.format(\n",
    "            time_elapsed // 60, time_elapsed % 60\n",
    "        )\n",
    "    )\n",
    "    return train_losses, validation_losses, train_accuracies, validation_accuracies"
   ]
  },
  {
   "cell_type": "code",
   "execution_count": 19,
   "metadata": {},
   "outputs": [],
   "source": [
    "def run_model(model, batch):\n",
    "    device = torch.device('cuda:0' if torch.cuda.is_available() else 'cpu')\n",
    "    model.to(device)\n",
    "    #inputs = batch\n",
    "    #inputs = inputs.to(device, dtype=torch.float)\n",
    "    inputs = batch.to(device, dtype=torch.float)\n",
    "    outputs = model(inputs)\n",
    "    #return outputs[0].cpu()\n",
    "    return outputs.cpu()"
   ]
  },
  {
   "cell_type": "code",
   "execution_count": 20,
   "metadata": {},
   "outputs": [],
   "source": [
    "def save_model(model, full=True, name='model'):\n",
    "    if not full:\n",
    "        torch.save(model.state_dict(), '{}_params.pkl'.format(name))\n",
    "    else:\n",
    "        torch.save(model, '{}.pkl'.format(name))\n",
    "    return"
   ]
  },
  {
   "cell_type": "code",
   "execution_count": 21,
   "metadata": {},
   "outputs": [],
   "source": [
    "def restore_model(name='model'):\n",
    "    return torch.load('{}.pkl'.format(name))"
   ]
  },
  {
   "cell_type": "code",
   "execution_count": 22,
   "metadata": {},
   "outputs": [],
   "source": [
    "train_df = load_data.load_text_data('../input/train.csv')"
   ]
  },
  {
   "cell_type": "code",
   "execution_count": 23,
   "metadata": {},
   "outputs": [],
   "source": [
    "train_df_two_classes = train_df.copy()"
   ]
  },
  {
   "cell_type": "code",
   "execution_count": 24,
   "metadata": {},
   "outputs": [],
   "source": [
    "train_df_two_classes.loc[train_df_two_classes['Id'] != 'new_whale', 'Id'] = 'not_new_whale'"
   ]
  },
  {
   "cell_type": "code",
   "execution_count": 25,
   "metadata": {},
   "outputs": [
    {
     "data": {
      "text/html": [
       "<div>\n",
       "<style scoped>\n",
       "    .dataframe tbody tr th:only-of-type {\n",
       "        vertical-align: middle;\n",
       "    }\n",
       "\n",
       "    .dataframe tbody tr th {\n",
       "        vertical-align: top;\n",
       "    }\n",
       "\n",
       "    .dataframe thead th {\n",
       "        text-align: right;\n",
       "    }\n",
       "</style>\n",
       "<table border=\"1\" class=\"dataframe\">\n",
       "  <thead>\n",
       "    <tr style=\"text-align: right;\">\n",
       "      <th></th>\n",
       "      <th>Image</th>\n",
       "      <th>Id</th>\n",
       "    </tr>\n",
       "  </thead>\n",
       "  <tbody>\n",
       "    <tr>\n",
       "      <th>0</th>\n",
       "      <td>0000e88ab.jpg</td>\n",
       "      <td>not_new_whale</td>\n",
       "    </tr>\n",
       "    <tr>\n",
       "      <th>1</th>\n",
       "      <td>0001f9222.jpg</td>\n",
       "      <td>not_new_whale</td>\n",
       "    </tr>\n",
       "    <tr>\n",
       "      <th>2</th>\n",
       "      <td>00029d126.jpg</td>\n",
       "      <td>not_new_whale</td>\n",
       "    </tr>\n",
       "    <tr>\n",
       "      <th>3</th>\n",
       "      <td>00050a15a.jpg</td>\n",
       "      <td>new_whale</td>\n",
       "    </tr>\n",
       "    <tr>\n",
       "      <th>4</th>\n",
       "      <td>0005c1ef8.jpg</td>\n",
       "      <td>new_whale</td>\n",
       "    </tr>\n",
       "    <tr>\n",
       "      <th>5</th>\n",
       "      <td>0006e997e.jpg</td>\n",
       "      <td>new_whale</td>\n",
       "    </tr>\n",
       "    <tr>\n",
       "      <th>6</th>\n",
       "      <td>000a6daec.jpg</td>\n",
       "      <td>not_new_whale</td>\n",
       "    </tr>\n",
       "    <tr>\n",
       "      <th>7</th>\n",
       "      <td>000f0f2bf.jpg</td>\n",
       "      <td>new_whale</td>\n",
       "    </tr>\n",
       "    <tr>\n",
       "      <th>8</th>\n",
       "      <td>0016b897a.jpg</td>\n",
       "      <td>not_new_whale</td>\n",
       "    </tr>\n",
       "    <tr>\n",
       "      <th>9</th>\n",
       "      <td>001c1ac5f.jpg</td>\n",
       "      <td>not_new_whale</td>\n",
       "    </tr>\n",
       "    <tr>\n",
       "      <th>10</th>\n",
       "      <td>001cae55b.jpg</td>\n",
       "      <td>not_new_whale</td>\n",
       "    </tr>\n",
       "    <tr>\n",
       "      <th>11</th>\n",
       "      <td>001d7450c.jpg</td>\n",
       "      <td>new_whale</td>\n",
       "    </tr>\n",
       "    <tr>\n",
       "      <th>12</th>\n",
       "      <td>00200e115.jpg</td>\n",
       "      <td>new_whale</td>\n",
       "    </tr>\n",
       "    <tr>\n",
       "      <th>13</th>\n",
       "      <td>00245a598.jpg</td>\n",
       "      <td>new_whale</td>\n",
       "    </tr>\n",
       "    <tr>\n",
       "      <th>14</th>\n",
       "      <td>002b4615d.jpg</td>\n",
       "      <td>new_whale</td>\n",
       "    </tr>\n",
       "    <tr>\n",
       "      <th>15</th>\n",
       "      <td>002f99f01.jpg</td>\n",
       "      <td>new_whale</td>\n",
       "    </tr>\n",
       "    <tr>\n",
       "      <th>16</th>\n",
       "      <td>00355ff28.jpg</td>\n",
       "      <td>not_new_whale</td>\n",
       "    </tr>\n",
       "    <tr>\n",
       "      <th>17</th>\n",
       "      <td>00357e37a.jpg</td>\n",
       "      <td>not_new_whale</td>\n",
       "    </tr>\n",
       "    <tr>\n",
       "      <th>18</th>\n",
       "      <td>003795857.jpg</td>\n",
       "      <td>new_whale</td>\n",
       "    </tr>\n",
       "    <tr>\n",
       "      <th>19</th>\n",
       "      <td>0041880bf.jpg</td>\n",
       "      <td>new_whale</td>\n",
       "    </tr>\n",
       "    <tr>\n",
       "      <th>20</th>\n",
       "      <td>0043da555.jpg</td>\n",
       "      <td>new_whale</td>\n",
       "    </tr>\n",
       "    <tr>\n",
       "      <th>21</th>\n",
       "      <td>00442c882.jpg</td>\n",
       "      <td>not_new_whale</td>\n",
       "    </tr>\n",
       "    <tr>\n",
       "      <th>22</th>\n",
       "      <td>00464ff65.jpg</td>\n",
       "      <td>new_whale</td>\n",
       "    </tr>\n",
       "    <tr>\n",
       "      <th>23</th>\n",
       "      <td>004775679.jpg</td>\n",
       "      <td>not_new_whale</td>\n",
       "    </tr>\n",
       "    <tr>\n",
       "      <th>24</th>\n",
       "      <td>004ae9e26.jpg</td>\n",
       "      <td>new_whale</td>\n",
       "    </tr>\n",
       "    <tr>\n",
       "      <th>25</th>\n",
       "      <td>004c0f43b.jpg</td>\n",
       "      <td>new_whale</td>\n",
       "    </tr>\n",
       "    <tr>\n",
       "      <th>26</th>\n",
       "      <td>004e8ad5b.jpg</td>\n",
       "      <td>not_new_whale</td>\n",
       "    </tr>\n",
       "    <tr>\n",
       "      <th>27</th>\n",
       "      <td>004f87702.jpg</td>\n",
       "      <td>not_new_whale</td>\n",
       "    </tr>\n",
       "    <tr>\n",
       "      <th>28</th>\n",
       "      <td>0050ef29d.jpg</td>\n",
       "      <td>not_new_whale</td>\n",
       "    </tr>\n",
       "    <tr>\n",
       "      <th>29</th>\n",
       "      <td>00514c876.jpg</td>\n",
       "      <td>not_new_whale</td>\n",
       "    </tr>\n",
       "    <tr>\n",
       "      <th>30</th>\n",
       "      <td>0052ce2f5.jpg</td>\n",
       "      <td>not_new_whale</td>\n",
       "    </tr>\n",
       "    <tr>\n",
       "      <th>31</th>\n",
       "      <td>00537ec91.jpg</td>\n",
       "      <td>not_new_whale</td>\n",
       "    </tr>\n",
       "    <tr>\n",
       "      <th>32</th>\n",
       "      <td>00570db6b.jpg</td>\n",
       "      <td>not_new_whale</td>\n",
       "    </tr>\n",
       "    <tr>\n",
       "      <th>33</th>\n",
       "      <td>005ce3100.jpg</td>\n",
       "      <td>new_whale</td>\n",
       "    </tr>\n",
       "    <tr>\n",
       "      <th>34</th>\n",
       "      <td>00600ce17.jpg</td>\n",
       "      <td>new_whale</td>\n",
       "    </tr>\n",
       "    <tr>\n",
       "      <th>35</th>\n",
       "      <td>006017ddf.jpg</td>\n",
       "      <td>not_new_whale</td>\n",
       "    </tr>\n",
       "    <tr>\n",
       "      <th>36</th>\n",
       "      <td>0060f764a.jpg</td>\n",
       "      <td>not_new_whale</td>\n",
       "    </tr>\n",
       "    <tr>\n",
       "      <th>37</th>\n",
       "      <td>006500b3d.jpg</td>\n",
       "      <td>not_new_whale</td>\n",
       "    </tr>\n",
       "    <tr>\n",
       "      <th>38</th>\n",
       "      <td>006506edf.jpg</td>\n",
       "      <td>new_whale</td>\n",
       "    </tr>\n",
       "    <tr>\n",
       "      <th>39</th>\n",
       "      <td>0067b3a20.jpg</td>\n",
       "      <td>not_new_whale</td>\n",
       "    </tr>\n",
       "  </tbody>\n",
       "</table>\n",
       "</div>"
      ],
      "text/plain": [
       "            Image             Id\n",
       "0   0000e88ab.jpg  not_new_whale\n",
       "1   0001f9222.jpg  not_new_whale\n",
       "2   00029d126.jpg  not_new_whale\n",
       "3   00050a15a.jpg      new_whale\n",
       "4   0005c1ef8.jpg      new_whale\n",
       "5   0006e997e.jpg      new_whale\n",
       "6   000a6daec.jpg  not_new_whale\n",
       "7   000f0f2bf.jpg      new_whale\n",
       "8   0016b897a.jpg  not_new_whale\n",
       "9   001c1ac5f.jpg  not_new_whale\n",
       "10  001cae55b.jpg  not_new_whale\n",
       "11  001d7450c.jpg      new_whale\n",
       "12  00200e115.jpg      new_whale\n",
       "13  00245a598.jpg      new_whale\n",
       "14  002b4615d.jpg      new_whale\n",
       "15  002f99f01.jpg      new_whale\n",
       "16  00355ff28.jpg  not_new_whale\n",
       "17  00357e37a.jpg  not_new_whale\n",
       "18  003795857.jpg      new_whale\n",
       "19  0041880bf.jpg      new_whale\n",
       "20  0043da555.jpg      new_whale\n",
       "21  00442c882.jpg  not_new_whale\n",
       "22  00464ff65.jpg      new_whale\n",
       "23  004775679.jpg  not_new_whale\n",
       "24  004ae9e26.jpg      new_whale\n",
       "25  004c0f43b.jpg      new_whale\n",
       "26  004e8ad5b.jpg  not_new_whale\n",
       "27  004f87702.jpg  not_new_whale\n",
       "28  0050ef29d.jpg  not_new_whale\n",
       "29  00514c876.jpg  not_new_whale\n",
       "30  0052ce2f5.jpg  not_new_whale\n",
       "31  00537ec91.jpg  not_new_whale\n",
       "32  00570db6b.jpg  not_new_whale\n",
       "33  005ce3100.jpg      new_whale\n",
       "34  00600ce17.jpg      new_whale\n",
       "35  006017ddf.jpg  not_new_whale\n",
       "36  0060f764a.jpg  not_new_whale\n",
       "37  006500b3d.jpg  not_new_whale\n",
       "38  006506edf.jpg      new_whale\n",
       "39  0067b3a20.jpg  not_new_whale"
      ]
     },
     "execution_count": 25,
     "metadata": {},
     "output_type": "execute_result"
    }
   ],
   "source": [
    "train_df_two_classes.head(40)"
   ]
  },
  {
   "cell_type": "code",
   "execution_count": 26,
   "metadata": {},
   "outputs": [
    {
     "data": {
      "text/plain": [
       "'\\nimage_size = 128\\ndataset = load_data.HumpbackWhalesDataset(\\n    train_df_two_classes,\\n    #train_df,\\n    #transform=load_data.transforms.ToTensor()\\n    #transform=ToTensor()\\n    transform=transforms.Compose(\\n        [\\n            #Rescale(int(image_size*1.25)),\\n            Rescale(int(image_size)),\\n            #RandomCrop(image_size),\\n            UnifyRescale(int(image_size)),\\n            ToTensor()\\n        ]\\n    )\\n)\\n'"
      ]
     },
     "execution_count": 26,
     "metadata": {},
     "output_type": "execute_result"
    }
   ],
   "source": [
    "'''\n",
    "image_size = 128\n",
    "dataset = load_data.HumpbackWhalesDataset(\n",
    "    train_df_two_classes,\n",
    "    #train_df,\n",
    "    #transform=load_data.transforms.ToTensor()\n",
    "    #transform=ToTensor()\n",
    "    transform=transforms.Compose(\n",
    "        [\n",
    "            #Rescale(int(image_size*1.25)),\n",
    "            Rescale(int(image_size)),\n",
    "            #RandomCrop(image_size),\n",
    "            UnifyRescale(int(image_size)),\n",
    "            ToTensor()\n",
    "        ]\n",
    "    )\n",
    ")\n",
    "'''"
   ]
  },
  {
   "cell_type": "code",
   "execution_count": 27,
   "metadata": {},
   "outputs": [],
   "source": [
    "#image_size = 128\n",
    "#image_size = 100\n",
    "dataset = load_data.HumpbackWhalesDataset(\n",
    "    train_df_two_classes,\n",
    "    #train_df,\n",
    "    #transform=load_data.transforms.ToTensor()\n",
    "    #transform=ToTensor()\n",
    "    transform=transforms.Compose(\n",
    "        [\n",
    "            transforms.Resize((IMAGE_W, IMAGE_H)),\n",
    "            transforms.RandomHorizontalFlip(),\n",
    "            transforms.ToTensor(),\n",
    "            transforms.Normalize(\n",
    "                mean=[0.485, 0.456, 0.406],\n",
    "                std=[0.229, 0.224, 0.225]\n",
    "            )\n",
    "        ]\n",
    "    )\n",
    ")"
   ]
  },
  {
   "cell_type": "code",
   "execution_count": 28,
   "metadata": {},
   "outputs": [
    {
     "name": "stdout",
     "output_type": "stream",
     "text": [
      "dataset_size:  25361\n",
      "validation_subset_size:  10144\n"
     ]
    }
   ],
   "source": [
    "dataset_loaders, dataset_sizes = prepare_loaders(dataset)"
   ]
  },
  {
   "cell_type": "code",
   "execution_count": 29,
   "metadata": {},
   "outputs": [],
   "source": [
    "train_loader = dataset_loaders['train']\n",
    "validation_loader = dataset_loaders['validation']\n",
    "train_dataset_size = dataset_sizes['train']\n",
    "validation_dataset_size = dataset_sizes['validation']"
   ]
  },
  {
   "cell_type": "code",
   "execution_count": 30,
   "metadata": {},
   "outputs": [
    {
     "name": "stdout",
     "output_type": "stream",
     "text": [
      "15217\n",
      "10144\n"
     ]
    }
   ],
   "source": [
    "print(train_dataset_size)\n",
    "print(validation_dataset_size)"
   ]
  },
  {
   "cell_type": "code",
   "execution_count": 31,
   "metadata": {},
   "outputs": [
    {
     "name": "stdout",
     "output_type": "stream",
     "text": [
      "<torch.utils.data.dataloader.DataLoader object at 0x7fdafd98f710>\n"
     ]
    }
   ],
   "source": [
    "print(train_loader)"
   ]
  },
  {
   "cell_type": "code",
   "execution_count": 32,
   "metadata": {},
   "outputs": [],
   "source": [
    "train_iter = iter(train_loader)"
   ]
  },
  {
   "cell_type": "code",
   "execution_count": 33,
   "metadata": {},
   "outputs": [
    {
     "name": "stdout",
     "output_type": "stream",
     "text": [
      "<class 'torch.utils.data.dataloader._DataLoaderIter'>\n"
     ]
    }
   ],
   "source": [
    "print(type(train_iter))"
   ]
  },
  {
   "cell_type": "code",
   "execution_count": 34,
   "metadata": {},
   "outputs": [
    {
     "name": "stdout",
     "output_type": "stream",
     "text": [
      "{'image': tensor([[[[ 1.3413,  1.3413,  1.3584,  ...,  1.1015,  1.1358,  1.1700],\n",
      "          [ 1.5125,  1.5297,  1.5125,  ...,  1.1529,  1.1358,  1.1700],\n",
      "          [ 1.5810,  1.5639,  1.5810,  ...,  1.1358,  1.1358,  1.1700],\n",
      "          ...,\n",
      "          [ 1.2728,  1.2899,  1.2214,  ...,  1.2899,  1.3584,  1.3584],\n",
      "          [ 1.3413,  1.3242,  1.3584,  ...,  1.2899,  1.3584,  1.4612],\n",
      "          [ 1.4954,  1.5297,  1.4440,  ...,  0.8789,  1.1187,  1.3242]],\n",
      "\n",
      "         [[ 1.5007,  1.5007,  1.5182,  ...,  1.2556,  1.2906,  1.3256],\n",
      "          [ 1.6758,  1.6933,  1.6758,  ...,  1.3081,  1.2906,  1.3256],\n",
      "          [ 1.7458,  1.7283,  1.7458,  ...,  1.2906,  1.2906,  1.3256],\n",
      "          ...,\n",
      "          [ 1.4307,  1.4482,  1.3782,  ...,  1.4482,  1.5182,  1.5182],\n",
      "          [ 1.5007,  1.4832,  1.5182,  ...,  1.4482,  1.5182,  1.6232],\n",
      "          [ 1.6583,  1.6933,  1.6057,  ...,  1.0280,  1.2731,  1.4832]],\n",
      "\n",
      "         [[ 1.7163,  1.7163,  1.7337,  ...,  1.4722,  1.5071,  1.5420],\n",
      "          [ 1.8905,  1.9080,  1.8905,  ...,  1.5245,  1.5071,  1.5420],\n",
      "          [ 1.9603,  1.9428,  1.9603,  ...,  1.5071,  1.5071,  1.5420],\n",
      "          ...,\n",
      "          [ 1.6465,  1.6640,  1.5942,  ...,  1.6640,  1.7337,  1.7337],\n",
      "          [ 1.7163,  1.6988,  1.7337,  ...,  1.6640,  1.7337,  1.8383],\n",
      "          [ 1.8731,  1.9080,  1.8208,  ...,  1.2457,  1.4897,  1.6988]]],\n",
      "\n",
      "\n",
      "        [[[ 1.7694,  1.7180,  1.7523,  ...,  1.6324,  1.6838,  1.6324],\n",
      "          [ 1.9235,  1.8550,  1.8550,  ...,  1.7523,  1.8037,  1.7865],\n",
      "          [ 1.8893,  1.8893,  1.8893,  ...,  1.8379,  1.8550,  1.8379],\n",
      "          ...,\n",
      "          [ 1.7523,  1.8037,  1.8893,  ...,  1.6153,  1.7009,  1.5125],\n",
      "          [ 1.7523,  1.8037,  1.8893,  ...,  1.5297,  1.8037,  1.8722],\n",
      "          [ 1.7523,  1.8379,  1.8722,  ...,  1.4783,  1.7523,  1.8379]],\n",
      "\n",
      "         [[ 1.9384,  1.8859,  1.9209,  ...,  1.7983,  1.8508,  1.7983],\n",
      "          [ 2.0959,  2.0259,  2.0259,  ...,  1.9209,  1.9734,  1.9559],\n",
      "          [ 2.0609,  2.0609,  2.0609,  ...,  2.0084,  2.0259,  2.0084],\n",
      "          ...,\n",
      "          [ 1.9209,  1.9734,  2.0609,  ...,  1.7808,  1.8683,  1.6758],\n",
      "          [ 1.9209,  1.9734,  2.0609,  ...,  1.6933,  1.9734,  2.0434],\n",
      "          [ 1.9209,  2.0084,  2.0434,  ...,  1.6408,  1.9209,  2.0084]],\n",
      "\n",
      "         [[ 2.1520,  2.0997,  2.1346,  ...,  2.0125,  2.0648,  2.0125],\n",
      "          [ 2.3088,  2.2391,  2.2391,  ...,  2.1346,  2.1868,  2.1694],\n",
      "          [ 2.2740,  2.2740,  2.2740,  ...,  2.2217,  2.2391,  2.2217],\n",
      "          ...,\n",
      "          [ 2.1346,  2.1868,  2.2740,  ...,  1.9951,  2.0823,  1.8905],\n",
      "          [ 2.1346,  2.1868,  2.2740,  ...,  1.9080,  2.1868,  2.2566],\n",
      "          [ 2.1346,  2.2217,  2.2566,  ...,  1.8557,  2.1346,  2.2217]]],\n",
      "\n",
      "\n",
      "        [[[ 0.8104,  0.8961,  0.9132,  ...,  0.6392,  0.4508,  0.3309],\n",
      "          [ 0.9646,  1.0159,  1.0331,  ...,  0.2967,  0.3994,  0.3994],\n",
      "          [ 1.0159,  1.0159,  1.0844,  ...,  0.0227,  0.2282,  0.4166],\n",
      "          ...,\n",
      "          [ 1.0844,  0.5707,  0.1254,  ...,  0.2967,  0.0741, -0.2171],\n",
      "          [ 0.8789,  0.6221,  0.2282,  ...,  0.1426,  0.7248,  0.5878],\n",
      "          [ 1.1187,  0.8789,  0.2453,  ...,  0.0056,  0.9646,  0.8447]],\n",
      "\n",
      "         [[ 1.0980,  1.1856,  1.2206,  ...,  0.9930,  0.8179,  0.7129],\n",
      "          [ 1.2381,  1.2906,  1.3081,  ...,  0.6604,  0.7654,  0.8004],\n",
      "          [ 1.2731,  1.2906,  1.3606,  ...,  0.3627,  0.5903,  0.8004],\n",
      "          ...,\n",
      "          [ 1.3431,  0.8704,  0.4678,  ...,  0.6078,  0.3803,  0.1176],\n",
      "          [ 1.1506,  0.9230,  0.5903,  ...,  0.4328,  1.0280,  0.8880],\n",
      "          [ 1.3431,  1.1506,  0.6078,  ...,  0.3102,  1.2731,  1.1155]],\n",
      "\n",
      "         [[ 1.4200,  1.4897,  1.5245,  ...,  1.3677,  1.1585,  1.0714],\n",
      "          [ 1.5420,  1.6117,  1.6291,  ...,  1.0365,  1.1237,  1.1411],\n",
      "          [ 1.6117,  1.6117,  1.6988,  ...,  0.6879,  0.9145,  1.1237],\n",
      "          ...,\n",
      "          [ 1.6291,  1.2108,  0.8274,  ...,  0.9145,  0.6879,  0.4265],\n",
      "          [ 1.4548,  1.2457,  0.9319,  ...,  0.7751,  1.3154,  1.1934],\n",
      "          [ 1.6291,  1.4722,  0.9494,  ...,  0.6356,  1.5420,  1.4200]]],\n",
      "\n",
      "\n",
      "        ...,\n",
      "\n",
      "\n",
      "        [[[ 0.1768,  0.5707,  0.5707,  ...,  0.3309,  0.2453,  0.2967],\n",
      "          [-0.0116,  0.2282,  0.3994,  ...,  0.5878,  0.4508,  0.2453],\n",
      "          [-0.4054, -0.5938, -0.3369,  ...,  0.5022,  0.1939,  0.0398],\n",
      "          ...,\n",
      "          [-0.3883, -0.6452, -0.4739,  ...,  1.0844,  0.9988,  0.9817],\n",
      "          [-0.2171, -0.1486, -0.1828,  ...,  1.0502,  1.0502,  1.1187],\n",
      "          [ 0.8104,  1.1529,  1.1700,  ...,  0.8618,  0.8276,  0.8447]],\n",
      "\n",
      "         [[ 1.4832,  1.7283,  1.6408,  ...,  1.5707,  1.4307,  1.4307],\n",
      "          [ 1.1506,  1.3256,  1.4482,  ...,  1.7108,  1.5532,  1.3782],\n",
      "          [ 0.8354,  0.6429,  0.9405,  ...,  1.5532,  1.3431,  1.2381],\n",
      "          ...,\n",
      "          [ 0.8179,  0.6954,  0.8704,  ...,  1.9734,  1.9559,  1.9209],\n",
      "          [ 0.9405,  0.9930,  1.0455,  ...,  1.9559,  1.9384,  1.9559],\n",
      "          [ 1.6057,  1.8333,  1.8333,  ...,  1.8508,  1.8333,  1.8158]],\n",
      "\n",
      "         [[ 2.3960,  2.4831,  2.4657,  ...,  2.3960,  2.3786,  2.3786],\n",
      "          [ 2.3263,  2.3786,  2.4134,  ...,  2.5180,  2.4831,  2.4134],\n",
      "          [ 2.1520,  2.0125,  2.1520,  ...,  2.4831,  2.4134,  2.3437],\n",
      "          ...,\n",
      "          [ 2.0997,  2.0300,  2.0997,  ...,  2.5354,  2.5529,  2.5354],\n",
      "          [ 2.1346,  2.1520,  2.1694,  ...,  2.5354,  2.5354,  2.5354],\n",
      "          [ 2.3088,  2.3960,  2.3786,  ...,  2.5006,  2.5006,  2.4831]]],\n",
      "\n",
      "\n",
      "        [[[ 1.5125,  1.4098,  1.3755,  ...,  1.5810,  1.5297,  1.5468],\n",
      "          [ 1.5297,  1.5468,  1.5297,  ...,  1.5810,  1.5468,  1.5982],\n",
      "          [ 1.4269,  1.4783,  1.5297,  ...,  1.5125,  1.4783,  1.4783],\n",
      "          ...,\n",
      "          [ 1.1187,  1.2899,  1.4098,  ...,  1.6153,  1.5982,  1.6495],\n",
      "          [ 1.5639,  1.5297,  1.5125,  ...,  1.7009,  1.7352,  1.6838],\n",
      "          [ 1.6324,  1.4440,  1.5125,  ...,  1.7009,  1.8893,  1.9235]],\n",
      "\n",
      "         [[ 1.6758,  1.5532,  1.5357,  ...,  1.7458,  1.6933,  1.7108],\n",
      "          [ 1.6758,  1.6933,  1.6933,  ...,  1.7283,  1.6933,  1.7633],\n",
      "          [ 1.5532,  1.6232,  1.6933,  ...,  1.6583,  1.6057,  1.6408],\n",
      "          ...,\n",
      "          [ 1.2731,  1.4307,  1.5532,  ...,  1.7808,  1.7633,  1.8158],\n",
      "          [ 1.7283,  1.6933,  1.6758,  ...,  1.8683,  1.9034,  1.8333],\n",
      "          [ 1.7808,  1.5882,  1.6583,  ...,  1.8683,  2.0609,  2.0784]],\n",
      "\n",
      "         [[ 1.9254,  1.7860,  1.7511,  ...,  1.9603,  1.9080,  1.9254],\n",
      "          [ 1.9080,  1.9254,  1.9080,  ...,  1.9428,  1.9254,  1.9777],\n",
      "          [ 1.7860,  1.8383,  1.9080,  ...,  1.8731,  1.8383,  1.8557],\n",
      "          ...,\n",
      "          [ 1.4722,  1.6465,  1.7511,  ...,  1.9951,  1.9777,  2.0300],\n",
      "          [ 1.9254,  1.9080,  1.8905,  ...,  2.0823,  2.1171,  2.0648],\n",
      "          [ 2.0125,  1.8034,  1.8557,  ...,  2.0648,  2.2740,  2.2914]]],\n",
      "\n",
      "\n",
      "        [[[ 0.7077,  0.6221,  0.5878,  ...,  0.6563,  0.6221,  0.5707],\n",
      "          [ 0.7933,  0.7591,  0.7933,  ...,  0.6392,  0.7419,  0.7248],\n",
      "          [ 0.6563,  0.7591,  0.7762,  ...,  0.6221,  0.7077,  0.6563],\n",
      "          ...,\n",
      "          [ 0.5364,  0.6392,  0.6563,  ...,  0.4851,  0.3481,  0.3481],\n",
      "          [ 0.8104,  0.7077,  0.6392,  ...,  0.4508,  0.3994,  0.4337],\n",
      "          [ 0.6221,  0.4851,  0.3994,  ...,  0.6734,  0.6563,  0.6563]],\n",
      "\n",
      "         [[ 0.9930,  0.9230,  0.8880,  ...,  0.9580,  0.9230,  0.8704],\n",
      "          [ 1.0980,  1.0630,  1.0980,  ...,  0.9230,  1.0280,  1.0105],\n",
      "          [ 0.9755,  1.0630,  1.0805,  ...,  0.9055,  0.9930,  0.9580],\n",
      "          ...,\n",
      "          [ 0.8529,  0.9405,  0.9580,  ...,  0.8004,  0.6779,  0.6604],\n",
      "          [ 1.1331,  1.0105,  0.9230,  ...,  0.7479,  0.7129,  0.7479],\n",
      "          [ 0.9230,  0.7829,  0.6779,  ...,  0.9755,  0.9405,  0.9405]],\n",
      "\n",
      "         [[ 1.5245,  1.4548,  1.4025,  ...,  1.4897,  1.4374,  1.3851],\n",
      "          [ 1.6291,  1.5942,  1.6117,  ...,  1.4722,  1.5594,  1.5420],\n",
      "          [ 1.4897,  1.5768,  1.6117,  ...,  1.4548,  1.5245,  1.4897],\n",
      "          ...,\n",
      "          [ 1.3851,  1.4548,  1.4897,  ...,  1.3154,  1.1934,  1.1934],\n",
      "          [ 1.6291,  1.5245,  1.4548,  ...,  1.2805,  1.2457,  1.2805],\n",
      "          [ 1.4200,  1.2980,  1.2282,  ...,  1.5071,  1.4897,  1.4722]]]]), 'label': tensor([0, 1, 0, 0, 0, 1, 1, 0, 0, 1, 0, 1, 1, 0, 0, 1, 1, 1, 0, 0, 1, 1, 1, 0,\n",
      "        0, 0, 0, 0, 1, 0, 0, 0, 0, 0, 1, 0, 0, 0, 0, 0, 0, 1, 1, 1, 0, 1, 0, 1,\n",
      "        0, 1, 0, 0, 0, 0, 0, 1, 0, 0, 0, 1, 0, 0, 1, 0, 0, 1, 1, 0, 0, 1, 0, 0,\n",
      "        0, 0, 0, 0, 1, 0, 1, 0, 1, 0, 0, 0, 0, 0, 1, 0, 1, 0, 0, 1, 1, 0, 0, 0,\n",
      "        0, 1, 0, 0, 1, 0, 0, 0, 0, 1, 1, 1, 0, 0, 0, 1, 1, 0, 0, 0, 1, 0, 1, 1,\n",
      "        1, 0, 0, 0, 1, 0, 0, 0, 0, 1, 0, 0, 1, 1, 0, 1, 0, 0, 0, 0, 0, 1, 1, 1,\n",
      "        1, 0, 0, 0, 0, 1, 0, 1, 0, 0, 0, 1, 1, 0, 0, 1, 0, 0, 1, 0, 1, 0, 0, 1,\n",
      "        0, 0, 0, 0, 0, 0, 0, 0, 1, 1, 0, 0, 1, 0, 0, 0, 0, 1, 1, 0, 0, 0, 1, 1,\n",
      "        0, 0, 1, 0, 0, 1, 1, 0])}\n"
     ]
    }
   ],
   "source": [
    "#images, labels = train_iter.next()\n",
    "sample = train_iter.next()\n",
    "print(sample)"
   ]
  },
  {
   "cell_type": "code",
   "execution_count": 35,
   "metadata": {},
   "outputs": [
    {
     "data": {
      "text/plain": [
       "\"\\nfor i_batch, sample_batched in enumerate(train_loader):\\n    print(i_batch, sample_batched['image'].size(),\\n          sample_batched['label'])\\n    # observe 4th batch and stop.\\n    if i_batch == 0:\\n        plt.figure(figsize=(24, 24))\\n        show_whale_batch(sample_batched)\\n        plt.axis('off')\\n        #plt.ioff()\\n        plt.show()\\n        break\\n\""
      ]
     },
     "execution_count": 35,
     "metadata": {},
     "output_type": "execute_result"
    }
   ],
   "source": [
    "'''\n",
    "for i_batch, sample_batched in enumerate(train_loader):\n",
    "    print(i_batch, sample_batched['image'].size(),\n",
    "          sample_batched['label'])\n",
    "    # observe 4th batch and stop.\n",
    "    if i_batch == 0:\n",
    "        plt.figure(figsize=(24, 24))\n",
    "        show_whale_batch(sample_batched)\n",
    "        plt.axis('off')\n",
    "        #plt.ioff()\n",
    "        plt.show()\n",
    "        break\n",
    "'''"
   ]
  },
  {
   "cell_type": "code",
   "execution_count": 36,
   "metadata": {},
   "outputs": [
    {
     "data": {
      "text/plain": [
       "{'not_new_whale': 0, 'new_whale': 1}"
      ]
     },
     "execution_count": 36,
     "metadata": {},
     "output_type": "execute_result"
    }
   ],
   "source": [
    "dataset.encoding"
   ]
  },
  {
   "cell_type": "code",
   "execution_count": 37,
   "metadata": {},
   "outputs": [
    {
     "data": {
      "text/plain": [
       "HWI_ConvNeuralNet(\n",
       "  (conv1): Conv2d(3, 32, kernel_size=(7, 7), stride=(1, 1), padding=(1, 1))\n",
       "  (conv2_bn): BatchNorm2d(32, eps=1e-05, momentum=0.1, affine=True, track_running_stats=True)\n",
       "  (pool): MaxPool2d(kernel_size=2, stride=2, padding=0, dilation=1, ceil_mode=False)\n",
       "  (conv2): Conv2d(32, 64, kernel_size=(3, 3), stride=(1, 1), padding=(1, 1))\n",
       "  (pool2): AvgPool2d(kernel_size=3, stride=3, padding=0)\n",
       "  (fc1): Linear(in_features=16384, out_features=1024, bias=True)\n",
       "  (fc2): Linear(in_features=1024, out_features=1, bias=True)\n",
       "  (dropout): Dropout(p=0.5)\n",
       "  (sigmoid): Sigmoid()\n",
       ")"
      ]
     },
     "execution_count": 37,
     "metadata": {},
     "output_type": "execute_result"
    }
   ],
   "source": [
    "hwi_conv_neural_net = HWI_ConvNeuralNet()\n",
    "hwi_conv_neural_net.apply(init_weights)"
   ]
  },
  {
   "cell_type": "code",
   "execution_count": 38,
   "metadata": {},
   "outputs": [],
   "source": [
    "device = torch.device(\"cuda:0\" if torch.cuda.is_available() else \"cpu\")"
   ]
  },
  {
   "cell_type": "code",
   "execution_count": 39,
   "metadata": {},
   "outputs": [
    {
     "name": "stdout",
     "output_type": "stream",
     "text": [
      "cuda:0\n"
     ]
    }
   ],
   "source": [
    "print(device)"
   ]
  },
  {
   "cell_type": "code",
   "execution_count": 40,
   "metadata": {},
   "outputs": [
    {
     "data": {
      "text/plain": [
       "HWI_ConvNeuralNet(\n",
       "  (conv1): Conv2d(3, 32, kernel_size=(7, 7), stride=(1, 1), padding=(1, 1))\n",
       "  (conv2_bn): BatchNorm2d(32, eps=1e-05, momentum=0.1, affine=True, track_running_stats=True)\n",
       "  (pool): MaxPool2d(kernel_size=2, stride=2, padding=0, dilation=1, ceil_mode=False)\n",
       "  (conv2): Conv2d(32, 64, kernel_size=(3, 3), stride=(1, 1), padding=(1, 1))\n",
       "  (pool2): AvgPool2d(kernel_size=3, stride=3, padding=0)\n",
       "  (fc1): Linear(in_features=16384, out_features=1024, bias=True)\n",
       "  (fc2): Linear(in_features=1024, out_features=1, bias=True)\n",
       "  (dropout): Dropout(p=0.5)\n",
       "  (sigmoid): Sigmoid()\n",
       ")"
      ]
     },
     "execution_count": 40,
     "metadata": {},
     "output_type": "execute_result"
    }
   ],
   "source": [
    "hwi_conv_neural_net.to(device)"
   ]
  },
  {
   "cell_type": "code",
   "execution_count": 41,
   "metadata": {},
   "outputs": [],
   "source": [
    "#criterion = nn.BCEWithLogitsLoss(reduction='sum')\n",
    "#criterion = nn.BCEWithLogitsLoss()\n",
    "criterion = nn.BCELoss()\n",
    "optimizer = optim.Adam(hwi_conv_neural_net.parameters(), lr=0.001, betas=(0.9, 0.99))"
   ]
  },
  {
   "cell_type": "code",
   "execution_count": 42,
   "metadata": {},
   "outputs": [],
   "source": [
    "num_of_epoch = 12\n",
    "#train_losses = []\n",
    "#train_accuracies = []\n",
    "#validation_losses = []\n",
    "#validation_accuracies = []"
   ]
  },
  {
   "cell_type": "code",
   "execution_count": 43,
   "metadata": {},
   "outputs": [
    {
     "data": {
      "text/plain": [
       "'\\ntorch.cuda.empty_cache()\\nsince = time.time()\\nfor epoch in range(num_of_epoch):\\n    epoch_train_accuracy = 0.0\\n    epoch_train_loss = 0.0\\n    correct_predicted_total = 0.0\\n    train_loss = 0.0\\n    #total_loss = 0.0\\n    #total = 0.0\\n    for i, data_batch in enumerate(train_loader, 0):\\n        \\n        inputs = data_batch[\\'image\\']\\n        labels = data_batch[\\'label\\']\\n        print(\"inputs: \", inputs)\\n        print(\"labels: \", labels)\\n        inputs = inputs.to(device, dtype=torch.float)\\n        labels = labels.to(device, dtype=torch.float)\\n        optimizer.zero_grad()\\n        \\n        outputs = hwi_conv_neural_net(inputs)\\n\\n        print(\"outputs.size():\\n\", outputs.size())\\n        print(\"labels.size():\\n\", labels.size())\\n        print(\"outputs:\\n\", outputs)\\n        #print(\"outputs[:, 0]:\\n\", outputs[:, 0])\\n        print(\"labels:\\n\", labels)\\n        loss = criterion(outputs, labels)\\n        loss.backward()\\n        optimizer.step()\\n        \\n        train_loss += loss.item() * inputs.size(0)\\n        \\n        predicted = outputs > 0\\n        print(\"type(predicted): \", type(predicted))\\n        print(\"predicted:\\n\", predicted)\\n\\n        #total += labels.size(0)\\n        labels = labels.data.byte()\\n        print(\"predicted == labels:\\n\", predicted == labels)\\n        #sum_of_correct_predicted = torch.sum((predicted == labels).all(1))\\n        sum_of_correct_predicted = torch.sum((predicted == labels))\\n        item = sum_of_correct_predicted.item()\\n        correct_predicted_total += item\\n        \\n    epoch_train_loss = train_loss / train_dataset_size\\n    epoch_train_accuracy = correct_predicted_total / train_dataset_size\\n    \\n    validation_loss, validation_accuracy = validate(hwi_conv_neural_net, validation_loader, criterion)\\n    \\n    epoch_validation_loss = validation_loss / validation_dataset_size\\n    epoch_validation_accuracy = validation_accuracy / validation_dataset_size\\n    \\n    print(\"Epoch {}: train loss {}, train accuracy\"\\n          \" {}, validation loss {}, validation accuracy {}\".format(\\n              epoch + 1,\\n              epoch_train_loss,\\n              epoch_train_accuracy,\\n              epoch_validation_loss,\\n              epoch_validation_accuracy\\n        )\\n    )\\n    train_losses.append(epoch_train_loss)\\n    train_accuracies.append(epoch_train_accuracy)\\n    validation_losses.append(epoch_validation_loss)\\n    validation_accuracies.append(epoch_validation_accuracy)\\n            \\nprint(\"Finished Training\")\\ntime_elapsed = time.time() - since\\nprint(\\n    \\'Training complete in {:.0f}m {:.0f}s\\'.format(\\n        time_elapsed // 60, time_elapsed % 60\\n    )\\n)\\n'"
      ]
     },
     "execution_count": 43,
     "metadata": {},
     "output_type": "execute_result"
    }
   ],
   "source": [
    "'''\n",
    "torch.cuda.empty_cache()\n",
    "since = time.time()\n",
    "for epoch in range(num_of_epoch):\n",
    "    epoch_train_accuracy = 0.0\n",
    "    epoch_train_loss = 0.0\n",
    "    correct_predicted_total = 0.0\n",
    "    train_loss = 0.0\n",
    "    #total_loss = 0.0\n",
    "    #total = 0.0\n",
    "    for i, data_batch in enumerate(train_loader, 0):\n",
    "        \n",
    "        inputs = data_batch['image']\n",
    "        labels = data_batch['label']\n",
    "        print(\"inputs: \", inputs)\n",
    "        print(\"labels: \", labels)\n",
    "        inputs = inputs.to(device, dtype=torch.float)\n",
    "        labels = labels.to(device, dtype=torch.float)\n",
    "        optimizer.zero_grad()\n",
    "        \n",
    "        outputs = hwi_conv_neural_net(inputs)\n",
    "\n",
    "        print(\"outputs.size():\\n\", outputs.size())\n",
    "        print(\"labels.size():\\n\", labels.size())\n",
    "        print(\"outputs:\\n\", outputs)\n",
    "        #print(\"outputs[:, 0]:\\n\", outputs[:, 0])\n",
    "        print(\"labels:\\n\", labels)\n",
    "        loss = criterion(outputs, labels)\n",
    "        loss.backward()\n",
    "        optimizer.step()\n",
    "        \n",
    "        train_loss += loss.item() * inputs.size(0)\n",
    "        \n",
    "        predicted = outputs > 0\n",
    "        print(\"type(predicted): \", type(predicted))\n",
    "        print(\"predicted:\\n\", predicted)\n",
    "\n",
    "        #total += labels.size(0)\n",
    "        labels = labels.data.byte()\n",
    "        print(\"predicted == labels:\\n\", predicted == labels)\n",
    "        #sum_of_correct_predicted = torch.sum((predicted == labels).all(1))\n",
    "        sum_of_correct_predicted = torch.sum((predicted == labels))\n",
    "        item = sum_of_correct_predicted.item()\n",
    "        correct_predicted_total += item\n",
    "        \n",
    "    epoch_train_loss = train_loss / train_dataset_size\n",
    "    epoch_train_accuracy = correct_predicted_total / train_dataset_size\n",
    "    \n",
    "    validation_loss, validation_accuracy = validate(hwi_conv_neural_net, validation_loader, criterion)\n",
    "    \n",
    "    epoch_validation_loss = validation_loss / validation_dataset_size\n",
    "    epoch_validation_accuracy = validation_accuracy / validation_dataset_size\n",
    "    \n",
    "    print(\"Epoch {}: train loss {}, train accuracy\"\n",
    "          \" {}, validation loss {}, validation accuracy {}\".format(\n",
    "              epoch + 1,\n",
    "              epoch_train_loss,\n",
    "              epoch_train_accuracy,\n",
    "              epoch_validation_loss,\n",
    "              epoch_validation_accuracy\n",
    "        )\n",
    "    )\n",
    "    train_losses.append(epoch_train_loss)\n",
    "    train_accuracies.append(epoch_train_accuracy)\n",
    "    validation_losses.append(epoch_validation_loss)\n",
    "    validation_accuracies.append(epoch_validation_accuracy)\n",
    "            \n",
    "print(\"Finished Training\")\n",
    "time_elapsed = time.time() - since\n",
    "print(\n",
    "    'Training complete in {:.0f}m {:.0f}s'.format(\n",
    "        time_elapsed // 60, time_elapsed % 60\n",
    "    )\n",
    ")\n",
    "'''"
   ]
  },
  {
   "cell_type": "code",
   "execution_count": 44,
   "metadata": {
    "scrolled": false
   },
   "outputs": [
    {
     "name": "stdout",
     "output_type": "stream",
     "text": [
      "Epoch 1: train loss 0.8345445667881842, train accuracy 75.96457908917658, validation loss 0.6395452126907626, validation accuracy 76.1269716088328\n",
      "Epoch 2: train loss 0.6312343689132052, train accuracy 75.98863113622922, validation loss 0.6314282321873523, validation accuracy 76.05520504731861\n",
      "Epoch 3: train loss 0.6100226818492898, train accuracy 75.96457908917658, validation loss 0.6105865567734565, validation accuracy 76.11041009463722\n",
      "Epoch 4: train loss 0.5955900391172687, train accuracy 75.9766051127029, validation loss 0.6125432666543906, validation accuracy 76.09384858044164\n",
      "Epoch 5: train loss 0.5815581395324148, train accuracy 75.98863113622922, validation loss 0.6035543479471929, validation accuracy 76.09384858044164\n",
      "Epoch 6: train loss 0.5588933467304863, train accuracy 76.04876125386082, validation loss 0.617530425593304, validation accuracy 76.11593059936908\n",
      "Epoch 7: train loss 0.5409114378944931, train accuracy 76.00065715975553, validation loss 0.6113448494146299, validation accuracy 76.08832807570978\n",
      "Epoch 8: train loss 0.5146234395011712, train accuracy 76.00065715975553, validation loss 0.6096194745144258, validation accuracy 76.08280757097792\n",
      "Epoch 9: train loss 0.47498507876938917, train accuracy 75.98863113622922, validation loss 0.6212761594388011, validation accuracy 76.08280757097792\n",
      "Epoch 10: train loss 0.43488898653195035, train accuracy 75.98863113622922, validation loss 0.6628734922089411, validation accuracy 76.1269716088328\n",
      "Epoch 11: train loss 0.38277281050010853, train accuracy 75.95255306565026, validation loss 0.6961521122733877, validation accuracy 76.13801261829653\n",
      "Epoch 12: train loss 0.323055192421792, train accuracy 75.98863113622922, validation loss 0.756200254339525, validation accuracy 76.04416403785488\n",
      "Finished Training\n",
      "Training complete in 65m 50s\n"
     ]
    }
   ],
   "source": [
    "train_rezult_metrics = train_model(\n",
    "    num_of_epoch,\n",
    "    hwi_conv_neural_net,\n",
    "    dataset_loaders,\n",
    "    dataset_sizes,\n",
    "    criterion,\n",
    "    optimizer\n",
    ")"
   ]
  },
  {
   "cell_type": "code",
   "execution_count": 50,
   "metadata": {},
   "outputs": [],
   "source": [
    "train_losses, validation_losses, train_accuracies, validation_accuracies = train_rezult_metrics"
   ]
  },
  {
   "cell_type": "code",
   "execution_count": 51,
   "metadata": {},
   "outputs": [
    {
     "data": {
      "image/png": "[encoded data removed]",
      "text/plain": [
       "<Figure size 432x288 with 1 Axes>"
      ]
     },
     "metadata": {
      "needs_background": "light"
     },
     "output_type": "display_data"
    },
    {
     "data": {
      "image/png": "[encoded data removed]",
      "text/plain": [
       "<Figure size 432x288 with 1 Axes>"
      ]
     },
     "metadata": {
      "needs_background": "light"
     },
     "output_type": "display_data"
    }
   ],
   "source": [
    "plt.plot(np.arange(len(train_losses)), train_losses, label='train')\n",
    "plt.plot(np.arange(len(validation_losses)), validation_losses, label='validation')\n",
    "plt.legend()\n",
    "plt.title(\"loss by epoch\")\n",
    "plt.show()\n",
    "\n",
    "plt.plot(np.arange(len(train_accuracies)), train_accuracies, label='train')\n",
    "plt.plot(np.arange(len(validation_accuracies)), validation_accuracies, label='validation')\n",
    "plt.legend()\n",
    "plt.title(\"accuracy by epoch\")\n",
    "plt.show()"
   ]
  },
  {
   "cell_type": "code",
   "execution_count": 47,
   "metadata": {},
   "outputs": [
    {
     "data": {
      "text/plain": [
       "([0.8345445667881842,\n",
       "  0.6312343689132052,\n",
       "  0.6100226818492898,\n",
       "  0.5955900391172687,\n",
       "  0.5815581395324148,\n",
       "  0.5588933467304863,\n",
       "  0.5409114378944931,\n",
       "  0.5146234395011712,\n",
       "  0.47498507876938917,\n",
       "  0.43488898653195035,\n",
       "  0.38277281050010853,\n",
       "  0.323055192421792],\n",
       " [0.6395452126907626,\n",
       "  0.6314282321873523,\n",
       "  0.6105865567734565,\n",
       "  0.6125432666543906,\n",
       "  0.6035543479471929,\n",
       "  0.617530425593304,\n",
       "  0.6113448494146299,\n",
       "  0.6096194745144258,\n",
       "  0.6212761594388011,\n",
       "  0.6628734922089411,\n",
       "  0.6961521122733877,\n",
       "  0.756200254339525],\n",
       " [75.96457908917658,\n",
       "  75.98863113622922,\n",
       "  75.96457908917658,\n",
       "  75.9766051127029,\n",
       "  75.98863113622922,\n",
       "  76.04876125386082,\n",
       "  76.00065715975553,\n",
       "  76.00065715975553,\n",
       "  75.98863113622922,\n",
       "  75.98863113622922,\n",
       "  75.95255306565026,\n",
       "  75.98863113622922],\n",
       " [76.1269716088328,\n",
       "  76.05520504731861,\n",
       "  76.11041009463722,\n",
       "  76.09384858044164,\n",
       "  76.09384858044164,\n",
       "  76.11593059936908,\n",
       "  76.08832807570978,\n",
       "  76.08280757097792,\n",
       "  76.08280757097792,\n",
       "  76.1269716088328,\n",
       "  76.13801261829653,\n",
       "  76.04416403785488])"
      ]
     },
     "execution_count": 47,
     "metadata": {},
     "output_type": "execute_result"
    }
   ],
   "source": [
    "train_rezult_metrics"
   ]
  },
  {
   "cell_type": "code",
   "execution_count": null,
   "metadata": {},
   "outputs": [],
   "source": []
  }
 ],
 "metadata": {
  "kernelspec": {
   "display_name": "Python 3",
   "language": "python",
   "name": "python3"
  },
  "language_info": {
   "codemirror_mode": {
    "name": "ipython",
    "version": 3
   },
   "file_extension": ".py",
   "mimetype": "text/x-python",
   "name": "python",
   "nbconvert_exporter": "python",
   "pygments_lexer": "ipython3",
   "version": "3.6.6"
  }
 },
 "nbformat": 4,
 "nbformat_minor": 2
}
